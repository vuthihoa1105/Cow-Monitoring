{
 "cells": [
  {
   "cell_type": "code",
   "execution_count": 81,
   "metadata": {},
   "outputs": [],
   "source": [
    "# All includes\n",
    "\n",
    "import numpy as np\n",
    "import matplotlib\n",
    "import matplotlib.pyplot as plt\n",
    "from sklearn import metrics\n",
    "import pandas as pd\n",
    "\n",
    "import os\n",
    "from IPython.core.interactiveshell import InteractiveShell\n",
    "InteractiveShell.ast_node_interactivity = \"all\"\n",
    "\n",
    "# for svm\n",
    "from sklearn.model_selection import train_test_split\n",
    "from sklearn.model_selection import GridSearchCV\n",
    "from sklearn.metrics import classification_report\n",
    "from sklearn.metrics import confusion_matrix\n",
    "from sklearn.svm import SVC"
   ]
  },
  {
   "cell_type": "code",
   "execution_count": 82,
   "metadata": {},
   "outputs": [],
   "source": [
    "# Import data\n",
    "\n",
    "df = pd.read_excel('data.xlsx')\n",
    "\n",
    "df = df.drop(columns=['Unnamed: 21', 'Unnamed: 22', 'Unnamed: 23'])\n",
    "\n",
    "#df.head()"
   ]
  },
  {
   "cell_type": "code",
   "execution_count": 83,
   "metadata": {},
   "outputs": [],
   "source": [
    "# Prepare data\n",
    "\n",
    "#df.columns\n",
    "\n",
    "Feeding = df[['Feeding', 'Unnamed: 1', 'Unnamed: 2']]\n",
    "Feeding = Feeding.dropna()\n",
    "Feeding.index = pd.RangeIndex(len(Feeding.index))\n",
    "Feeding = Feeding.drop(0)\n",
    "\n",
    "Lying = df[['Lying', 'Unnamed: 4', 'Unnamed: 5']]\n",
    "Lying = Lying.dropna()\n",
    "Lying.index = pd.RangeIndex(len(Lying.index))\n",
    "Lying = Lying.drop(0)\n",
    "\n",
    "Standing = df[['Standing', 'Unnamed: 7', 'Unnamed: 8']]\n",
    "Standing = Standing.dropna()\n",
    "Standing.index = pd.RangeIndex(len(Standing.index))\n",
    "Standing = Standing.drop(0)\n",
    "\n",
    "Lying_down = df[['Lying down', 'Unnamed: 10', 'Unnamed: 11']]\n",
    "Lying_down = Lying_down.dropna()\n",
    "Lying_down.index = pd.RangeIndex(len(Lying_down.index))\n",
    "Lying_down = Lying_down.drop(0)\n",
    "\n",
    "Standing_up = df[['Feeding', 'Unnamed: 13', 'Unnamed: 14']]\n",
    "Standing_up = Standing_up.dropna()\n",
    "Standing_up.index = pd.RangeIndex(len(Standing_up.index))\n",
    "Standing_up = Standing_up.drop(0)\n",
    "\n",
    "Normal_walking = df[['Normal walking', 'Unnamed: 16', 'Unnamed: 17']]\n",
    "Normal_walking = Normal_walking.dropna()\n",
    "Normal_walking.index = pd.RangeIndex(len(Normal_walking.index))\n",
    "Normal_walking = Normal_walking.drop(0)\n",
    "\n",
    "Active_walking = df[['Active walking', 'Unnamed: 19', 'Unnamed: 20']]\n",
    "Active_walking = Active_walking.dropna()\n",
    "Active_walking.index = pd.RangeIndex(len(Active_walking.index))\n",
    "Active_walking = Active_walking.drop(0)\n",
    "\n",
    "#Active_walking.columns"
   ]
  },
  {
   "cell_type": "code",
   "execution_count": 84,
   "metadata": {},
   "outputs": [
    {
     "data": {
      "text/html": [
       "<div>\n",
       "<style scoped>\n",
       "    .dataframe tbody tr th:only-of-type {\n",
       "        vertical-align: middle;\n",
       "    }\n",
       "\n",
       "    .dataframe tbody tr th {\n",
       "        vertical-align: top;\n",
       "    }\n",
       "\n",
       "    .dataframe thead th {\n",
       "        text-align: right;\n",
       "    }\n",
       "</style>\n",
       "<table border=\"1\" class=\"dataframe\">\n",
       "  <thead>\n",
       "    <tr style=\"text-align: right;\">\n",
       "      <th></th>\n",
       "      <th>Standing</th>\n",
       "      <th>Unnamed: 7</th>\n",
       "      <th>Unnamed: 8</th>\n",
       "    </tr>\n",
       "  </thead>\n",
       "  <tbody>\n",
       "    <tr>\n",
       "      <th>1</th>\n",
       "      <td>-0.8</td>\n",
       "      <td>0</td>\n",
       "      <td>0.4</td>\n",
       "    </tr>\n",
       "    <tr>\n",
       "      <th>2</th>\n",
       "      <td>-0.8</td>\n",
       "      <td>0</td>\n",
       "      <td>0.4</td>\n",
       "    </tr>\n",
       "    <tr>\n",
       "      <th>3</th>\n",
       "      <td>-0.8</td>\n",
       "      <td>0</td>\n",
       "      <td>0.4</td>\n",
       "    </tr>\n",
       "    <tr>\n",
       "      <th>4</th>\n",
       "      <td>-0.8</td>\n",
       "      <td>0</td>\n",
       "      <td>0.4</td>\n",
       "    </tr>\n",
       "    <tr>\n",
       "      <th>5</th>\n",
       "      <td>-0.8</td>\n",
       "      <td>0</td>\n",
       "      <td>0.4</td>\n",
       "    </tr>\n",
       "    <tr>\n",
       "      <th>6</th>\n",
       "      <td>-0.8</td>\n",
       "      <td>0</td>\n",
       "      <td>0.4</td>\n",
       "    </tr>\n",
       "    <tr>\n",
       "      <th>7</th>\n",
       "      <td>-0.8</td>\n",
       "      <td>0</td>\n",
       "      <td>0.4</td>\n",
       "    </tr>\n",
       "    <tr>\n",
       "      <th>8</th>\n",
       "      <td>-0.8</td>\n",
       "      <td>0</td>\n",
       "      <td>0.4</td>\n",
       "    </tr>\n",
       "    <tr>\n",
       "      <th>9</th>\n",
       "      <td>-0.8</td>\n",
       "      <td>0</td>\n",
       "      <td>0.4</td>\n",
       "    </tr>\n",
       "    <tr>\n",
       "      <th>10</th>\n",
       "      <td>-0.8</td>\n",
       "      <td>-0.1</td>\n",
       "      <td>0.4</td>\n",
       "    </tr>\n",
       "  </tbody>\n",
       "</table>\n",
       "</div>"
      ],
      "text/plain": [
       "   Standing Unnamed: 7 Unnamed: 8\n",
       "1      -0.8          0        0.4\n",
       "2      -0.8          0        0.4\n",
       "3      -0.8          0        0.4\n",
       "4      -0.8          0        0.4\n",
       "5      -0.8          0        0.4\n",
       "6      -0.8          0        0.4\n",
       "7      -0.8          0        0.4\n",
       "8      -0.8          0        0.4\n",
       "9      -0.8          0        0.4\n",
       "10     -0.8       -0.1        0.4"
      ]
     },
     "execution_count": 84,
     "metadata": {},
     "output_type": "execute_result"
    }
   ],
   "source": [
    "Standing.head(10)"
   ]
  },
  {
   "cell_type": "code",
   "execution_count": 85,
   "metadata": {},
   "outputs": [],
   "source": [
    "## compute feature database\n",
    "prepared_features = []\n",
    "window_size = 6\n",
    "stride = 3\n",
    "\n",
    "# windowing and overlaping\n",
    "#test_data = Standing.loc[15]\n",
    "\n",
    "Feeding_data_list = [Feeding[i:i+window_size] for i in range(0, len(Feeding), stride) if i+window_size<=len(Feeding)]\n",
    "\n",
    "Lying_data_list = [Lying[i:i+window_size] for i in range(0, len(Lying), stride) if i+window_size<=len(Lying)]\n",
    "\n",
    "Lying_down_data_list = [Lying_down[i:i+window_size] for i in range(0, len(Lying_down), stride) if i+window_size<=len(Lying_down)]\n",
    "\n",
    "Standing_data_list = [Standing[i:i+window_size] for i in range(0, len(Standing), stride) if i+window_size<=len(Standing)]\n",
    "\n",
    "Standing_up_data_list = [Standing_up[i:i+window_size] for i in range(0, len(Standing_up), stride) if i+window_size<=len(Standing_up)]\n",
    "\n",
    "Normal_walking_data_list = [Normal_walking[i:i+window_size] for i in range(0, len(Normal_walking), stride) if i+window_size<=len(Normal_walking)]\n",
    "\n",
    "Active_walking_data_list = [Active_walking[i:i+window_size] for i in range(0, len(Active_walking), stride) if i+window_size<=len(Active_walking)]\n"
   ]
  },
  {
   "cell_type": "code",
   "execution_count": 86,
   "metadata": {},
   "outputs": [],
   "source": [
    "\n",
    "# this function extract vector of features from raw data\n",
    "# Expected features:\n",
    "# 1. mean\n",
    "# 2. median\n",
    "# 3. variance\n",
    "# 4. range\n",
    "# 5. standard Deviation\n",
    "# 6. average\n",
    "# ---------------------------\n",
    "# 7. energy\n",
    "# 8. correlation\n",
    "# 9. velocity\n",
    "# 10. acceleration\n",
    "# 11. fundamental frequencies (DFT)\n",
    "# 12. signal peaks (using PSD - Power Spectral Density)\n",
    "\n",
    "# return feat: a numpy array of length 18 <todo>\n",
    "\n",
    "def featuresFromBuffer(at, fs):\n",
    "    feat = np.zeros(15)\n",
    "    #feat = []\n",
    "    x = np.array(at.iloc[0], dtype=np.float64)   # x acceleration component\n",
    "    y = np.array(at.iloc[1], dtype=np.float64)   # y\n",
    "    z = np.array(at.iloc[2], dtype=np.float64)   # z\n",
    "    \n",
    "    # Average value in signal buffer for all three acceleration components (1 each)    \n",
    "    means = [np.mean(i) for i in [x, y, z]]\n",
    "    feat[0:3] = means\n",
    "    \n",
    "    # RMS value in signal buffer for all three acceleration components (1 each)\n",
    "    rms = [np.sqrt(np.mean(i**2)) for i in [x, y, z]]\n",
    "    feat[3:6] = rms\n",
    "    \n",
    "    # Standard deviation\n",
    "    std = [np.std(i) for i in [x, y, z]]\n",
    "    feat[6:9] = std\n",
    "    \n",
    "    # Variance\n",
    "    var = [np.var(i) for i in [x, y, z]]\n",
    "    feat[9:12] = var\n",
    "    \n",
    "    # Median\n",
    "    med = [np.median(i) for i in [x, y, z]]\n",
    "    feat[12:15] = med\n",
    "    \n",
    "    # Range\n",
    "    #Range1 = [ np.amin(i) for i in [x, y, z]]    \n",
    "    #feat[15:18] = Range1\n",
    "    #Range2 = [ np.amax(i) for i in [x, y, z]]    \n",
    "    #feat[18:21] = Range2\n",
    "    \n",
    "    # Energy\n",
    "    #energy = [ sum(i**2) for i in [x, y, z]]\n",
    "    #feat[15:18] = energy\n",
    "    \n",
    "    #ranges = np.array(Range)\n",
    "    #feat[15:18] = ranges\n",
    "    # TODO:\n",
    "    # Spectral peak features\n",
    "    # Spectral power features\n",
    "    # Autocorrelation features\n",
    "    \n",
    "    return feat\n",
    "    \n",
    "    \n",
    "\n",
    "    "
   ]
  },
  {
   "cell_type": "code",
   "execution_count": 87,
   "metadata": {},
   "outputs": [
    {
     "data": {
      "text/plain": [
       "[1, 2]"
      ]
     },
     "execution_count": 87,
     "metadata": {},
     "output_type": "execute_result"
    }
   ],
   "source": [
    "f = []\n",
    "f1 = [1, 2]\n",
    "f [0:1] = f1\n",
    "f"
   ]
  },
  {
   "cell_type": "code",
   "execution_count": 88,
   "metadata": {},
   "outputs": [
    {
     "data": {
      "text/plain": [
       "list"
      ]
     },
     "execution_count": 88,
     "metadata": {},
     "output_type": "execute_result"
    }
   ],
   "source": [
    "x1 = [1, 2, 3, 4]\n",
    "x2 = [3, 4, 6, 7]\n",
    "x3 = [3, 7, 8, 30]\n",
    "Ra = [[np.amin(i), np.amax(i)] for i in [x1, x2, x3]]\n",
    "type(Ra)"
   ]
  },
  {
   "cell_type": "code",
   "execution_count": 89,
   "metadata": {},
   "outputs": [],
   "source": [
    "## Definitons:\n",
    "# Feeding: 1\n",
    "# Lying: 2\n",
    "# Standing: 3\n",
    "# Lying down: 4\n",
    "# Standing up: 5\n",
    "# Normal walking: 6\n",
    "# Active walking: 7\n",
    "\n",
    "#data = [Feeding, Lying, Standing, Lying_down, Standing, Lying_down, Standing_up, Normal_walking, Active_walking]\n",
    "\n",
    "features_vector = []\n",
    "\n",
    "lables = []\n",
    "\n",
    "#len(Feeding_data_list)\n",
    "#Feeding_data_list[1226]\n",
    "#Feeding"
   ]
  },
  {
   "cell_type": "code",
   "execution_count": 90,
   "metadata": {
    "scrolled": true
   },
   "outputs": [
    {
     "name": "stdout",
     "output_type": "stream",
     "text": [
      "begin->end\n"
     ]
    }
   ],
   "source": [
    "print(\"begin->end\")\n",
    "# main loop of data preparation\n",
    "i = 0\n",
    "\n",
    "# Add Feeding feature and lable = 1\n",
    "for action in Feeding_data_list:\n",
    "    feat = featuresFromBuffer(action, 5)\n",
    "    features_vector.append(feat)\n",
    "    lables.append(1)\n",
    "\n",
    "# Add Lying feature and lable = 2\n",
    "for action in Lying_data_list:\n",
    "    feat = featuresFromBuffer(action, 5)\n",
    "    features_vector.append(feat)\n",
    "    lables.append(2)\n",
    "    \n",
    "# Add Standing feature and lable = 3\n",
    "for action in Standing_data_list:\n",
    "    feat = featuresFromBuffer(action, 5)\n",
    "    features_vector.append(feat)\n",
    "    lables.append(3)\n",
    "    \n",
    "# Add Lying_down feature and lable = 4\n",
    "for action in Lying_down_data_list:\n",
    "    feat = featuresFromBuffer(action, 5)\n",
    "    features_vector.append(feat)\n",
    "    lables.append(4)\n",
    "    \n",
    "# Add Standing_up feature and lable = 5\n",
    "for action in Standing_up_data_list:\n",
    "    feat = featuresFromBuffer(action, 5)\n",
    "    features_vector.append(feat)\n",
    "    lables.append(5)\n",
    "    \n",
    "# Add Normal_walking feature and lable = 6\n",
    "for action in Normal_walking_data_list:\n",
    "    feat = featuresFromBuffer(action, 5)\n",
    "    features_vector.append(feat)\n",
    "    lables.append(6)\n",
    "    \n",
    "# Add Active_walking feature and lable = 7\n",
    "for action in Active_walking_data_list:\n",
    "    feat = featuresFromBuffer(action, 5)\n",
    "    features_vector.append(feat)\n",
    "    lables.append(7)\n"
   ]
  },
  {
   "cell_type": "code",
   "execution_count": 93,
   "metadata": {},
   "outputs": [
    {
     "data": {
      "text/plain": [
       "7363"
      ]
     },
     "execution_count": 93,
     "metadata": {},
     "output_type": "execute_result"
    },
    {
     "data": {
      "text/plain": [
       "7363"
      ]
     },
     "execution_count": 93,
     "metadata": {},
     "output_type": "execute_result"
    }
   ],
   "source": [
    "len(features_vector)\n",
    "\n",
    "len(lables)\n",
    "\n",
    "X_train, X_test,y_train, y_test = train_test_split(features_vector, lables, random_state=0)"
   ]
  },
  {
   "cell_type": "code",
   "execution_count": 94,
   "metadata": {},
   "outputs": [
    {
     "data": {
      "text/plain": [
       "PCA(copy=True, iterated_power='auto', n_components=2, random_state=None,\n",
       "  svd_solver='auto', tol=0.0, whiten=False)"
      ]
     },
     "execution_count": 94,
     "metadata": {},
     "output_type": "execute_result"
    },
    {
     "data": {
      "text/plain": [
       "<Figure size 432x288 with 0 Axes>"
      ]
     },
     "execution_count": 94,
     "metadata": {},
     "output_type": "execute_result"
    },
    {
     "data": {
      "text/plain": [
       "[<matplotlib.lines.Line2D at 0x7f52b199b358>]"
      ]
     },
     "execution_count": 94,
     "metadata": {},
     "output_type": "execute_result"
    },
    {
     "data": {
      "text/plain": [
       "[<matplotlib.lines.Line2D at 0x7f52b1df77f0>]"
      ]
     },
     "execution_count": 94,
     "metadata": {},
     "output_type": "execute_result"
    },
    {
     "data": {
      "text/plain": [
       "[<matplotlib.lines.Line2D at 0x7f52a8df5dd8>]"
      ]
     },
     "execution_count": 94,
     "metadata": {},
     "output_type": "execute_result"
    },
    {
     "data": {
      "text/plain": [
       "[<matplotlib.lines.Line2D at 0x7f52b199bda0>]"
      ]
     },
     "execution_count": 94,
     "metadata": {},
     "output_type": "execute_result"
    },
    {
     "data": {
      "text/plain": [
       "[<matplotlib.lines.Line2D at 0x7f52b199bdd8>]"
      ]
     },
     "execution_count": 94,
     "metadata": {},
     "output_type": "execute_result"
    },
    {
     "data": {
      "text/plain": [
       "[<matplotlib.lines.Line2D at 0x7f52b19b9748>]"
      ]
     },
     "execution_count": 94,
     "metadata": {},
     "output_type": "execute_result"
    },
    {
     "data": {
      "text/plain": [
       "<matplotlib.legend.Legend at 0x7f52b19be278>"
      ]
     },
     "execution_count": 94,
     "metadata": {},
     "output_type": "execute_result"
    },
    {
     "data": {
      "image/png": "[encoded data removed]",
      "text/plain": [
       "<Figure size 432x288 with 1 Axes>"
      ]
     },
     "metadata": {},
     "output_type": "display_data"
    },
    {
     "name": "stderr",
     "output_type": "stream",
     "text": [
      "/home/kikyou/.local/lib/python3.6/site-packages/sklearn/svm/base.py:196: FutureWarning: The default value of gamma will change from 'auto' to 'scale' in version 0.22 to account better for unscaled features. Set gamma explicitly to 'auto' or 'scale' to avoid this warning.\n",
      "  \"avoid this warning.\", FutureWarning)\n"
     ]
    },
    {
     "data": {
      "text/plain": [
       "SVC(C=1.0, cache_size=200, class_weight=None, coef0=0.0,\n",
       "  decision_function_shape='ovr', degree=3, gamma='auto_deprecated',\n",
       "  kernel='rbf', max_iter=-1, probability=True, random_state=None,\n",
       "  shrinking=True, tol=0.001, verbose=False)"
      ]
     },
     "execution_count": 94,
     "metadata": {},
     "output_type": "execute_result"
    },
    {
     "name": "stdout",
     "output_type": "stream",
     "text": [
      "\n",
      "SVM with kernel = 'rbf':\n",
      "[[299.   0.   0.   0.   2.   0.]\n",
      " [  0. 370.   0.   0.   0.   0.]\n",
      " [230.   3.   0.   0.   0.   1.]\n",
      " [  3.   1.   0.  66.  38.  22.]\n",
      " [  9.   0.   0.  13. 100.   4.]\n",
      " [ 24.  36.   0.   4.   6. 296.]]\n",
      "\n"
     ]
    },
    {
     "name": "stderr",
     "output_type": "stream",
     "text": [
      "/home/kikyou/anaconda3/lib/python3.6/site-packages/ipykernel_launcher.py:36: RuntimeWarning: invalid value encountered in double_scalars\n"
     ]
    },
    {
     "ename": "AttributeError",
     "evalue": "'list' object has no attribute 'size'",
     "output_type": "error",
     "traceback": [
      "\u001b[0;31m---------------------------------------------------------------------------\u001b[0m",
      "\u001b[0;31mAttributeError\u001b[0m                            Traceback (most recent call last)",
      "\u001b[0;32m<ipython-input-94-26dc65826eee>\u001b[0m in \u001b[0;36m<module>\u001b[0;34m()\u001b[0m\n\u001b[1;32m    108\u001b[0m \u001b[0mrecall_svmk\u001b[0m \u001b[0;34m=\u001b[0m \u001b[0mpre_rec\u001b[0m\u001b[0;34m(\u001b[0m\u001b[0mcmatrix_svmk\u001b[0m\u001b[0;34m,\u001b[0m \u001b[0my_test_count\u001b[0m\u001b[0;34m)\u001b[0m\u001b[0;34m\u001b[0m\u001b[0m\n\u001b[1;32m    109\u001b[0m \u001b[0mprecision_svmk\u001b[0m \u001b[0;34m=\u001b[0m \u001b[0mpre_rec\u001b[0m\u001b[0;34m(\u001b[0m\u001b[0mcmatrix_svmk\u001b[0m\u001b[0;34m,\u001b[0m \u001b[0my_pred_count_svmk\u001b[0m\u001b[0;34m)\u001b[0m\u001b[0;34m\u001b[0m\u001b[0m\n\u001b[0;32m--> 110\u001b[0;31m \u001b[0maccuracy_svmk\u001b[0m \u001b[0;34m=\u001b[0m \u001b[0moverall_accuracy\u001b[0m\u001b[0;34m(\u001b[0m\u001b[0mcmatrix_svmk\u001b[0m\u001b[0;34m,\u001b[0m \u001b[0my_test\u001b[0m\u001b[0;34m)\u001b[0m\u001b[0;34m\u001b[0m\u001b[0m\n\u001b[0m\u001b[1;32m    111\u001b[0m \u001b[0mprint\u001b[0m \u001b[0;34m(\u001b[0m\u001b[0;34m\"Precision for SVM: \"\u001b[0m\u001b[0;34m)\u001b[0m\u001b[0;34m\u001b[0m\u001b[0m\n\u001b[1;32m    112\u001b[0m \u001b[0mprint\u001b[0m \u001b[0;34m(\u001b[0m\u001b[0mprecision_svmk\u001b[0m\u001b[0;34m)\u001b[0m\u001b[0;34m\u001b[0m\u001b[0m\n",
      "\u001b[0;32m<ipython-input-94-26dc65826eee>\u001b[0m in \u001b[0;36moverall_accuracy\u001b[0;34m(cm, y_test)\u001b[0m\n\u001b[1;32m     41\u001b[0m     \u001b[0;32mfor\u001b[0m \u001b[0mi\u001b[0m \u001b[0;32min\u001b[0m \u001b[0mrange\u001b[0m\u001b[0;34m(\u001b[0m\u001b[0;36m6\u001b[0m\u001b[0;34m)\u001b[0m\u001b[0;34m:\u001b[0m\u001b[0;34m\u001b[0m\u001b[0m\n\u001b[1;32m     42\u001b[0m         \u001b[0msum\u001b[0m \u001b[0;34m+=\u001b[0m \u001b[0mcm\u001b[0m\u001b[0;34m[\u001b[0m\u001b[0mi\u001b[0m\u001b[0;34m]\u001b[0m\u001b[0;34m[\u001b[0m\u001b[0mi\u001b[0m\u001b[0;34m]\u001b[0m\u001b[0;34m\u001b[0m\u001b[0m\n\u001b[0;32m---> 43\u001b[0;31m     \u001b[0;32mreturn\u001b[0m \u001b[0mfloat\u001b[0m\u001b[0;34m(\u001b[0m\u001b[0;34m\"{0:.2f}\"\u001b[0m\u001b[0;34m.\u001b[0m\u001b[0mformat\u001b[0m\u001b[0;34m(\u001b[0m\u001b[0msum\u001b[0m \u001b[0;34m*\u001b[0m \u001b[0;36m100.0\u001b[0m \u001b[0;34m/\u001b[0m \u001b[0my_test\u001b[0m\u001b[0;34m.\u001b[0m\u001b[0msize\u001b[0m\u001b[0;34m)\u001b[0m\u001b[0;34m)\u001b[0m\u001b[0;34m\u001b[0m\u001b[0m\n\u001b[0m\u001b[1;32m     44\u001b[0m \u001b[0;34m\u001b[0m\u001b[0m\n\u001b[1;32m     45\u001b[0m \u001b[0;31m###############################################################################\u001b[0m\u001b[0;34m\u001b[0m\u001b[0;34m\u001b[0m\u001b[0m\n",
      "\u001b[0;31mAttributeError\u001b[0m: 'list' object has no attribute 'size'"
     ]
    }
   ],
   "source": [
    "from sklearn.decomposition import PCA\n",
    "#import matplotlib.pylab as plt\n",
    "\n",
    "def total_count(y):\n",
    "    count = np.zeros(6)\n",
    "    for i in range(len(y)):\n",
    "        if (y[i] == 1):\n",
    "            count[0] += 1\n",
    "        if (y[i] == 2):\n",
    "            count[1] += 1\n",
    "        if (y[i] == 3):\n",
    "            count[2] += 1\n",
    "        if (y[i] == 4):\n",
    "            count[3] += 1\n",
    "        if (y[i] == 5):\n",
    "            count[4] += 1\n",
    "        if (y[i] == 6):\n",
    "            count[5] += 1\n",
    "    return count\n",
    "\n",
    "y_test_count = total_count(y_test)\n",
    "\n",
    "def confusion_matrix(y_test, y_pred):\n",
    "    cm = np.zeros((6, 6))\n",
    "    for i in range(6):\n",
    "        for j in range(6):\n",
    "            for k in range(len(y_pred)):\n",
    "                if (y_pred[k] == j + 1 and y_test[k] == i + 1):\n",
    "                    cm[i][j] += 1\n",
    "    return cm\n",
    "\n",
    "\n",
    "def pre_rec(cm, count):\n",
    "    perc = []\n",
    "    for i in range(6):\n",
    "        perc.append(float(\"{0:.2f}\".format(cm[i][i] / count[i] * 100)))\n",
    "    return perc\n",
    "        \n",
    "def overall_accuracy(cm, y_test):\n",
    "    sum = 0\n",
    "    for i in range(6):\n",
    "        sum += cm[i][i]\n",
    "    return float(\"{0:.2f}\".format(sum * 100.0 / len(y_test)))    \n",
    "        \n",
    "###############################################################################\n",
    "        \n",
    "pca2 = PCA(n_components = 2)\n",
    "pca2.fit(X_train)\n",
    "X_train_2 = pca2.transform(X_train)\n",
    "X_test_2 = pca2.transform(X_test)\n",
    "\n",
    "x11 = []\n",
    "x12 = []\n",
    "x21 = []\n",
    "x22 = []\n",
    "x31 = []\n",
    "x32 = []\n",
    "x41 = []\n",
    "x42 = []\n",
    "x51 = []\n",
    "x52 = []\n",
    "x61 = []\n",
    "x62 = []\n",
    "\n",
    "for i in range(len(y_test)):\n",
    "    if (y_test[i] == 1):\n",
    "        x11.append(X_test_2[i][0])\n",
    "        x12.append(X_test_2[i][1])\n",
    "    elif (y_test[i] == 2):\n",
    "        x21.append(X_test_2[i][0])\n",
    "        x22.append(X_test_2[i][1])\n",
    "    elif (y_test[i] == 3):\n",
    "        x31.append(X_test_2[i][0])\n",
    "        x32.append(X_test_2[i][1])\n",
    "    elif (y_test[i] == 4):\n",
    "        x41.append(X_test_2[i][0])\n",
    "        x42.append(X_test_2[i][1])\n",
    "    elif (y_test[i] == 5):\n",
    "        x51.append(X_test_2[i][0])\n",
    "        x52.append(X_test_2[i][1])\n",
    "    else:\n",
    "        x61.append(X_test_2[i][0])\n",
    "        x62.append(X_test_2[i][1])\n",
    "\n",
    "plt.figure() \n",
    "plt.plot(x41, x42, 'xr', label = 'Sitting')\n",
    "plt.plot(x51, x52, 'xm', label = 'Standing')     \n",
    "plt.plot(x11, x12, 'xc', label = 'Walking')\n",
    "plt.plot(x21, x22, 'xb', label = 'Upstairs')\n",
    "plt.plot(x31, x32, 'xy', label = 'Downstairs')\n",
    "plt.plot(x61, x62, 'xg', label = 'Laying')\n",
    "plt.legend(loc='lower left')\n",
    "plt.show()\n",
    "\n",
    "###############################################################################\n",
    "        \n",
    "SVMK = SVC(probability = True)\n",
    "SVMK.fit(X_train, y_train)\n",
    "y_predict_svmk = SVMK.predict(X_test)\n",
    "\n",
    "y_pred_count_svmk = total_count(y_predict_svmk)\n",
    "cmatrix_svmk = confusion_matrix(y_test, y_predict_svmk)\n",
    "\n",
    "print (\"\\nSVM with kernel = 'rbf':\")\n",
    "print (cmatrix_svmk)\n",
    "print (\"\")\n",
    "\n",
    "recall_svmk = pre_rec(cmatrix_svmk, y_test_count)\n",
    "precision_svmk = pre_rec(cmatrix_svmk, y_pred_count_svmk)\n",
    "accuracy_svmk = overall_accuracy(cmatrix_svmk, y_test)\n",
    "print (\"Precision for SVM: \")\n",
    "print (precision_svmk)\n",
    "print (\"Recall for SVM: \")\n",
    "print (recall_svmk)\n",
    "print (\"Accuracy for SVM: \")\n",
    "print (accuracy_svmk)\n",
    "\n",
    "###############################################################################\n",
    "\n",
    "SVMK2 = SVC(kernel='linear')\n",
    "SVMK2.fit(X_train, y_train)\n",
    "y_predict_svmk2 = SVMK2.predict(X_test)\n",
    "\n",
    "y_pred_count_svmk2 = total_count(y_predict_svmk2)\n",
    "cmatrix_svmk2 = confusion_matrix(y_test, y_predict_svmk2)\n",
    "\n",
    "print (\"\\nSVM with kernel = 'linear':\")\n",
    "print (cmatrix_svmk2)\n",
    "print (\"\")\n",
    "\n",
    "recall_svmk2 = pre_rec(cmatrix_svmk2, y_test_count)\n",
    "precision_svmk2 = pre_rec(cmatrix_svmk2, y_pred_count_svmk2)\n",
    "accuracy_svmk2 = overall_accuracy(cmatrix_svmk2, y_test)\n",
    "\n",
    "print (\"Precision for SVM: \")\n",
    "print (precision_svmk2)\n",
    "print (\"Recall for SVM: \")\n",
    "print (recall_svmk2)\n",
    "print (\"Accuracy for SVM: \")\n",
    "print (accuracy_svmk2)\n",
    "\n",
    "###############################################################################\n",
    "\n",
    "SVMK3 = SVC(kernel='poly')\n",
    "SVMK3.fit(X_train, y_train)\n",
    "y_predict_svmk3 = SVMK3.predict(X_test)\n",
    "\n",
    "y_pred_count_svmk3 = total_count(y_predict_svmk3)\n",
    "cmatrix_svmk3 = confusion_matrix(y_test, y_predict_svmk3)\n",
    "\n",
    "print (\"\\nSVM with kernel = 'poly'\")\n",
    "print (cmatrix_svmk3)\n",
    "print (\"\")\n",
    "\n",
    "recall_svmk3 = pre_rec(cmatrix_svmk3, y_test_count)\n",
    "precision_svmk3 = pre_rec(cmatrix_svmk3, y_pred_count_svmk2)\n",
    "accuracy_svmk3 = overall_accuracy(cmatrix_svmk3, y_test)\n",
    "\n",
    "print(\"Precision for SVM: \")\n",
    "print(precision_svmk3)\n",
    "print(recall_svmk3)\n",
    "print (\"Accuracy for SVM: \")\n",
    "print (accuracy_svmk3)\n",
    "###############################################################################\n"
   ]
  },
  {
   "cell_type": "code",
   "execution_count": 57,
   "metadata": {
    "scrolled": true
   },
   "outputs": [
    {
     "name": "stdout",
     "output_type": "stream",
     "text": [
      "\n",
      "\n",
      "LINEAR SVM: \n",
      "\n"
     ]
    },
    {
     "ename": "ValueError",
     "evalue": "setting an array element with a sequence.",
     "output_type": "error",
     "traceback": [
      "\u001b[0;31m---------------------------------------------------------------------------\u001b[0m",
      "\u001b[0;31mValueError\u001b[0m                                Traceback (most recent call last)",
      "\u001b[0;32m<ipython-input-57-f53d26fbe0da>\u001b[0m in \u001b[0;36m<module>\u001b[0;34m()\u001b[0m\n\u001b[1;32m      6\u001b[0m \u001b[0;31m#fig, subaxes = plt.subplots(1, 1, figsize=(7,5))\u001b[0m\u001b[0;34m\u001b[0m\u001b[0;34m\u001b[0m\u001b[0m\n\u001b[1;32m      7\u001b[0m \u001b[0mthis_C\u001b[0m \u001b[0;34m=\u001b[0m \u001b[0;36m100\u001b[0m\u001b[0;34m\u001b[0m\u001b[0m\n\u001b[0;32m----> 8\u001b[0;31m \u001b[0mclf\u001b[0m \u001b[0;34m=\u001b[0m \u001b[0mSVC\u001b[0m\u001b[0;34m(\u001b[0m\u001b[0mC\u001b[0m\u001b[0;34m=\u001b[0m\u001b[0mthis_C\u001b[0m\u001b[0;34m)\u001b[0m\u001b[0;34m.\u001b[0m\u001b[0mfit\u001b[0m\u001b[0;34m(\u001b[0m\u001b[0mX_train\u001b[0m\u001b[0;34m,\u001b[0m \u001b[0my_train\u001b[0m\u001b[0;34m)\u001b[0m\u001b[0;34m\u001b[0m\u001b[0m\n\u001b[0m\u001b[1;32m      9\u001b[0m \u001b[0mprint\u001b[0m\u001b[0;34m(\u001b[0m\u001b[0;34m\"\\nAccuracy on training set: {:.2f}\"\u001b[0m\u001b[0;34m.\u001b[0m\u001b[0mformat\u001b[0m\u001b[0;34m(\u001b[0m\u001b[0mclf\u001b[0m\u001b[0;34m.\u001b[0m\u001b[0mscore\u001b[0m\u001b[0;34m(\u001b[0m\u001b[0mX_train\u001b[0m\u001b[0;34m,\u001b[0m \u001b[0my_train\u001b[0m\u001b[0;34m)\u001b[0m\u001b[0;34m)\u001b[0m\u001b[0;34m)\u001b[0m\u001b[0;34m\u001b[0m\u001b[0m\n\u001b[1;32m     10\u001b[0m \u001b[0mprint\u001b[0m\u001b[0;34m(\u001b[0m\u001b[0;34m\"\\nAccuracy on test set: {:.2f}\"\u001b[0m\u001b[0;34m.\u001b[0m\u001b[0mformat\u001b[0m\u001b[0;34m(\u001b[0m\u001b[0mclf\u001b[0m\u001b[0;34m.\u001b[0m\u001b[0mscore\u001b[0m\u001b[0;34m(\u001b[0m\u001b[0mX_test\u001b[0m\u001b[0;34m,\u001b[0m \u001b[0my_test\u001b[0m\u001b[0;34m)\u001b[0m\u001b[0;34m)\u001b[0m\u001b[0;34m)\u001b[0m\u001b[0;34m\u001b[0m\u001b[0m\n",
      "\u001b[0;32m~/.local/lib/python3.6/site-packages/sklearn/svm/base.py\u001b[0m in \u001b[0;36mfit\u001b[0;34m(self, X, y, sample_weight)\u001b[0m\n\u001b[1;32m    147\u001b[0m         X, y = check_X_y(X, y, dtype=np.float64,\n\u001b[1;32m    148\u001b[0m                          \u001b[0morder\u001b[0m\u001b[0;34m=\u001b[0m\u001b[0;34m'C'\u001b[0m\u001b[0;34m,\u001b[0m \u001b[0maccept_sparse\u001b[0m\u001b[0;34m=\u001b[0m\u001b[0;34m'csr'\u001b[0m\u001b[0;34m,\u001b[0m\u001b[0;34m\u001b[0m\u001b[0m\n\u001b[0;32m--> 149\u001b[0;31m                          accept_large_sparse=False)\n\u001b[0m\u001b[1;32m    150\u001b[0m         \u001b[0my\u001b[0m \u001b[0;34m=\u001b[0m \u001b[0mself\u001b[0m\u001b[0;34m.\u001b[0m\u001b[0m_validate_targets\u001b[0m\u001b[0;34m(\u001b[0m\u001b[0my\u001b[0m\u001b[0;34m)\u001b[0m\u001b[0;34m\u001b[0m\u001b[0m\n\u001b[1;32m    151\u001b[0m \u001b[0;34m\u001b[0m\u001b[0m\n",
      "\u001b[0;32m~/.local/lib/python3.6/site-packages/sklearn/utils/validation.py\u001b[0m in \u001b[0;36mcheck_X_y\u001b[0;34m(X, y, accept_sparse, accept_large_sparse, dtype, order, copy, force_all_finite, ensure_2d, allow_nd, multi_output, ensure_min_samples, ensure_min_features, y_numeric, warn_on_dtype, estimator)\u001b[0m\n\u001b[1;32m    754\u001b[0m                     \u001b[0mensure_min_features\u001b[0m\u001b[0;34m=\u001b[0m\u001b[0mensure_min_features\u001b[0m\u001b[0;34m,\u001b[0m\u001b[0;34m\u001b[0m\u001b[0m\n\u001b[1;32m    755\u001b[0m                     \u001b[0mwarn_on_dtype\u001b[0m\u001b[0;34m=\u001b[0m\u001b[0mwarn_on_dtype\u001b[0m\u001b[0;34m,\u001b[0m\u001b[0;34m\u001b[0m\u001b[0m\n\u001b[0;32m--> 756\u001b[0;31m                     estimator=estimator)\n\u001b[0m\u001b[1;32m    757\u001b[0m     \u001b[0;32mif\u001b[0m \u001b[0mmulti_output\u001b[0m\u001b[0;34m:\u001b[0m\u001b[0;34m\u001b[0m\u001b[0m\n\u001b[1;32m    758\u001b[0m         y = check_array(y, 'csr', force_all_finite=True, ensure_2d=False,\n",
      "\u001b[0;32m~/.local/lib/python3.6/site-packages/sklearn/utils/validation.py\u001b[0m in \u001b[0;36mcheck_array\u001b[0;34m(array, accept_sparse, accept_large_sparse, dtype, order, copy, force_all_finite, ensure_2d, allow_nd, ensure_min_samples, ensure_min_features, warn_on_dtype, estimator)\u001b[0m\n\u001b[1;32m    525\u001b[0m             \u001b[0;32mtry\u001b[0m\u001b[0;34m:\u001b[0m\u001b[0;34m\u001b[0m\u001b[0m\n\u001b[1;32m    526\u001b[0m                 \u001b[0mwarnings\u001b[0m\u001b[0;34m.\u001b[0m\u001b[0msimplefilter\u001b[0m\u001b[0;34m(\u001b[0m\u001b[0;34m'error'\u001b[0m\u001b[0;34m,\u001b[0m \u001b[0mComplexWarning\u001b[0m\u001b[0;34m)\u001b[0m\u001b[0;34m\u001b[0m\u001b[0m\n\u001b[0;32m--> 527\u001b[0;31m                 \u001b[0marray\u001b[0m \u001b[0;34m=\u001b[0m \u001b[0mnp\u001b[0m\u001b[0;34m.\u001b[0m\u001b[0masarray\u001b[0m\u001b[0;34m(\u001b[0m\u001b[0marray\u001b[0m\u001b[0;34m,\u001b[0m \u001b[0mdtype\u001b[0m\u001b[0;34m=\u001b[0m\u001b[0mdtype\u001b[0m\u001b[0;34m,\u001b[0m \u001b[0morder\u001b[0m\u001b[0;34m=\u001b[0m\u001b[0morder\u001b[0m\u001b[0;34m)\u001b[0m\u001b[0;34m\u001b[0m\u001b[0m\n\u001b[0m\u001b[1;32m    528\u001b[0m             \u001b[0;32mexcept\u001b[0m \u001b[0mComplexWarning\u001b[0m\u001b[0;34m:\u001b[0m\u001b[0;34m\u001b[0m\u001b[0m\n\u001b[1;32m    529\u001b[0m                 raise ValueError(\"Complex data not supported\\n\"\n",
      "\u001b[0;32m~/.local/lib/python3.6/site-packages/numpy/core/numeric.py\u001b[0m in \u001b[0;36masarray\u001b[0;34m(a, dtype, order)\u001b[0m\n\u001b[1;32m    536\u001b[0m \u001b[0;34m\u001b[0m\u001b[0m\n\u001b[1;32m    537\u001b[0m     \"\"\"\n\u001b[0;32m--> 538\u001b[0;31m     \u001b[0;32mreturn\u001b[0m \u001b[0marray\u001b[0m\u001b[0;34m(\u001b[0m\u001b[0ma\u001b[0m\u001b[0;34m,\u001b[0m \u001b[0mdtype\u001b[0m\u001b[0;34m,\u001b[0m \u001b[0mcopy\u001b[0m\u001b[0;34m=\u001b[0m\u001b[0;32mFalse\u001b[0m\u001b[0;34m,\u001b[0m \u001b[0morder\u001b[0m\u001b[0;34m=\u001b[0m\u001b[0morder\u001b[0m\u001b[0;34m)\u001b[0m\u001b[0;34m\u001b[0m\u001b[0m\n\u001b[0m\u001b[1;32m    539\u001b[0m \u001b[0;34m\u001b[0m\u001b[0m\n\u001b[1;32m    540\u001b[0m \u001b[0;34m\u001b[0m\u001b[0m\n",
      "\u001b[0;31mValueError\u001b[0m: setting an array element with a sequence."
     ]
    }
   ],
   "source": [
    "# prepare data train;\n",
    "X_train, X_test,y_train, y_test = train_test_split(features_vector, lables, random_state=0)\n",
    "\n",
    "# linear SVM: C parameter\n",
    "print(\"\\n\\nLINEAR SVM: \\n\")\n",
    "#fig, subaxes = plt.subplots(1, 1, figsize=(7,5))\n",
    "this_C = 100\n",
    "clf = SVC(C=this_C).fit(X_train, y_train)\n",
    "print(\"\\nAccuracy on training set: {:.2f}\".format(clf.score(X_train, y_train)))\n",
    "print(\"\\nAccuracy on test set: {:.2f}\".format(clf.score(X_test, y_test)))\n",
    "title = 'Linear SVC, C = {:.3f}'.format(this_C)\n",
    "#plot_class_regions_for_classifier_subplot(clf, X_train, y_train, None, None, title, subaxes)\n",
    "# Multi-class classification with linear models"
   ]
  },
  {
   "cell_type": "code",
   "execution_count": 58,
   "metadata": {},
   "outputs": [
    {
     "data": {
      "text/plain": [
       "1841"
      ]
     },
     "execution_count": 58,
     "metadata": {},
     "output_type": "execute_result"
    },
    {
     "data": {
      "text/plain": [
       "5522"
      ]
     },
     "execution_count": 58,
     "metadata": {},
     "output_type": "execute_result"
    }
   ],
   "source": [
    "len(X_test)\n",
    "len(y_train)"
   ]
  },
  {
   "cell_type": "code",
   "execution_count": 20,
   "metadata": {},
   "outputs": [],
   "source": [
    "# make color\n",
    "import seaborn as sns\n",
    "from matplotlib import cm\n",
    "from sklearn.metrics import accuracy_score, precision_score, recall_score, f1_score"
   ]
  },
  {
   "cell_type": "code",
   "execution_count": 418,
   "metadata": {},
   "outputs": [
    {
     "data": {
      "text/plain": [
       "<Figure size 1080x720 with 0 Axes>"
      ]
     },
     "execution_count": 418,
     "metadata": {},
     "output_type": "execute_result"
    },
    {
     "data": {
      "text/plain": [
       "<matplotlib.axes._subplots.AxesSubplot at 0x7f78c11a2ba8>"
      ]
     },
     "execution_count": 418,
     "metadata": {},
     "output_type": "execute_result"
    },
    {
     "data": {
      "text/plain": [
       "Text(0.5, 1.0, 'SVM rbf Kernel \\nAccuracy:0.766')"
      ]
     },
     "execution_count": 418,
     "metadata": {},
     "output_type": "execute_result"
    },
    {
     "data": {
      "text/plain": [
       "Text(114.0, 0.5, 'True label')"
      ]
     },
     "execution_count": 418,
     "metadata": {},
     "output_type": "execute_result"
    },
    {
     "data": {
      "text/plain": [
       "Text(0.5, 69.0, 'Predicted label')"
      ]
     },
     "execution_count": 418,
     "metadata": {},
     "output_type": "execute_result"
    },
    {
     "data": {
      "image/png": "[encoded data removed]",
      "text/plain": [
       "<Figure size 1080x720 with 2 Axes>"
      ]
     },
     "metadata": {},
     "output_type": "display_data"
    }
   ],
   "source": [
    "# confusion matrices:\n",
    "svm_predicted = clf.predict(X_test)\n",
    "\n",
    "\n",
    "confusion_test = confusion_matrix(y_test, svm_predicted)\n",
    "\n",
    "\n",
    "df_cm = pd.DataFrame(confusion_test,\n",
    "                    index = [i for i in range(1, 8)], columns = [i for i in range(1, 8)])\n",
    "\n",
    "\n",
    "plt.figure(figsize=(15,10))\n",
    "\n",
    "sns.heatmap(df_cm, annot=True)\n",
    "\n",
    "plt.title('SVM rbf Kernel \\nAccuracy:{0:.3f}'.format(accuracy_score(y_test, \n",
    "                                                                       svm_predicted)))\n",
    "plt.ylabel('True label')\n",
    "plt.xlabel('Predicted label')"
   ]
  },
  {
   "cell_type": "code",
   "execution_count": 246,
   "metadata": {},
   "outputs": [
    {
     "name": "stdout",
     "output_type": "stream",
     "text": [
      "              precision    recall  f1-score   support\n",
      "\n",
      "           1       0.58      0.86      0.69       301\n",
      "           2       0.99      1.00      0.99       370\n",
      "           3       0.57      0.23      0.33       234\n",
      "           4       0.59      0.50      0.54       164\n",
      "           5       0.72      0.81      0.76       151\n",
      "           6       0.89      0.94      0.91       366\n",
      "           7       0.82      0.77      0.80       255\n",
      "\n",
      "   micro avg       0.77      0.77      0.77      1841\n",
      "   macro avg       0.74      0.73      0.72      1841\n",
      "weighted avg       0.77      0.77      0.76      1841\n",
      "\n"
     ]
    }
   ],
   "source": [
    "print(classification_report(y_test, svm_predicted))"
   ]
  },
  {
   "cell_type": "code",
   "execution_count": 397,
   "metadata": {},
   "outputs": [],
   "source": [
    "## Definitons:\n",
    "# Feeding: 1\n",
    "# Lying: 2\n",
    "# Standing: 3\n",
    "# Lying down: 4\n",
    "# Standing up: 5\n",
    "# Normal walking: 6\n",
    "# Active walking: 7"
   ]
  },
  {
   "cell_type": "code",
   "execution_count": null,
   "metadata": {},
   "outputs": [],
   "source": []
  }
 ],
 "metadata": {
  "kernelspec": {
   "display_name": "Python 3",
   "language": "python",
   "name": "python3"
  },
  "language_info": {
   "codemirror_mode": {
    "name": "ipython",
    "version": 3
   },
   "file_extension": ".py",
   "mimetype": "text/x-python",
   "name": "python",
   "nbconvert_exporter": "python",
   "pygments_lexer": "ipython3",
   "version": "3.6.5"
  }
 },
 "nbformat": 4,
 "nbformat_minor": 2
}
