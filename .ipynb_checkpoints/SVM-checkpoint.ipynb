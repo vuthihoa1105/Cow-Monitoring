{
 "cells": [
  {
   "cell_type": "code",
   "execution_count": 1,
   "metadata": {},
   "outputs": [],
   "source": [
    "# All includes\n",
    "\n",
    "import numpy as np\n",
    "import matplotlib\n",
    "import matplotlib.pyplot as plt\n",
    "from sklearn import metrics\n",
    "import pandas as pd\n",
    "\n",
    "import os\n",
    "from IPython.core.interactiveshell import InteractiveShell\n",
    "InteractiveShell.ast_node_interactivity = \"all\"\n",
    "\n",
    "# for svm\n",
    "from sklearn.model_selection import train_test_split\n",
    "from sklearn.model_selection import GridSearchCV\n",
    "from sklearn.metrics import classification_report\n",
    "from sklearn.metrics import confusion_matrix\n",
    "from sklearn.svm import SVC\n",
    "\n",
    "# Current best:\n",
    "# Decision Tree: 99/91%\n",
    "\n",
    "\n",
    "## Current Best for SVM: no frequency features\n",
    "# window_size: 12\n",
    "# Stridee: 5\n",
    "# Overall Accuracy: 90/90\n",
    "\n",
    "\n",
    "# if frequency involved --> achieve 91/89 accuracy"
   ]
  },
  {
   "cell_type": "code",
   "execution_count": 2,
   "metadata": {},
   "outputs": [],
   "source": [
    "# Import data\n",
    "\n",
    "df = pd.read_excel('data.xlsx')\n",
    "\n",
    "df = df.drop(columns=['Unnamed: 21', 'Unnamed: 22', 'Unnamed: 23'])\n",
    "\n",
    "#df.head()"
   ]
  },
  {
   "cell_type": "code",
   "execution_count": 3,
   "metadata": {},
   "outputs": [],
   "source": [
    "# Prepare data\n",
    "\n",
    "#df.columns\n",
    "\n",
    "Feeding = df[['Feeding', 'Unnamed: 1', 'Unnamed: 2']]\n",
    "Feeding = Feeding.dropna()\n",
    "Feeding.index = pd.RangeIndex(len(Feeding.index))\n",
    "Feeding = Feeding.drop(0)\n",
    "\n",
    "Lying = df[['Lying', 'Unnamed: 4', 'Unnamed: 5']]\n",
    "Lying = Lying.dropna()\n",
    "Lying.index = pd.RangeIndex(len(Lying.index))\n",
    "Lying = Lying.drop(0)\n",
    "\n",
    "Standing = df[['Standing', 'Unnamed: 7', 'Unnamed: 8']]\n",
    "Standing = Standing.dropna()\n",
    "Standing.index = pd.RangeIndex(len(Standing.index))\n",
    "Standing = Standing.drop(0)\n",
    "\n",
    "Lying_down = df[['Lying down', 'Unnamed: 10', 'Unnamed: 11']]\n",
    "Lying_down = Lying_down.dropna()\n",
    "Lying_down.index = pd.RangeIndex(len(Lying_down.index))\n",
    "Lying_down = Lying_down.drop(0)\n",
    "\n",
    "Standing_up = df[['Standing up', 'Unnamed: 13', 'Unnamed: 14']]\n",
    "Standing_up = Standing_up.dropna()\n",
    "Standing_up.index = pd.RangeIndex(len(Standing_up.index))\n",
    "Standing_up = Standing_up.drop(0)\n",
    "\n",
    "Normal_walking = df[['Normal walking', 'Unnamed: 16', 'Unnamed: 17']]\n",
    "Normal_walking = Normal_walking.dropna()\n",
    "Normal_walking.index = pd.RangeIndex(len(Normal_walking.index))\n",
    "Normal_walking = Normal_walking.drop(0)\n",
    "\n",
    "Active_walking = df[['Active walking', 'Unnamed: 19', 'Unnamed: 20']]\n",
    "Active_walking = Active_walking.dropna()\n",
    "Active_walking.index = pd.RangeIndex(len(Active_walking.index))\n",
    "Active_walking = Active_walking.drop(0)\n",
    "\n",
    "#Active_walking.columns"
   ]
  },
  {
   "cell_type": "code",
   "execution_count": 4,
   "metadata": {},
   "outputs": [
    {
     "data": {
      "text/html": [
       "<div>\n",
       "<style scoped>\n",
       "    .dataframe tbody tr th:only-of-type {\n",
       "        vertical-align: middle;\n",
       "    }\n",
       "\n",
       "    .dataframe tbody tr th {\n",
       "        vertical-align: top;\n",
       "    }\n",
       "\n",
       "    .dataframe thead th {\n",
       "        text-align: right;\n",
       "    }\n",
       "</style>\n",
       "<table border=\"1\" class=\"dataframe\">\n",
       "  <thead>\n",
       "    <tr style=\"text-align: right;\">\n",
       "      <th></th>\n",
       "      <th>Standing up</th>\n",
       "      <th>Unnamed: 13</th>\n",
       "      <th>Unnamed: 14</th>\n",
       "    </tr>\n",
       "  </thead>\n",
       "  <tbody>\n",
       "    <tr>\n",
       "      <th>1</th>\n",
       "      <td>-0.3</td>\n",
       "      <td>0.7</td>\n",
       "      <td>-1</td>\n",
       "    </tr>\n",
       "    <tr>\n",
       "      <th>2</th>\n",
       "      <td>1.3</td>\n",
       "      <td>-1.6</td>\n",
       "      <td>-0.1</td>\n",
       "    </tr>\n",
       "    <tr>\n",
       "      <th>3</th>\n",
       "      <td>2.4</td>\n",
       "      <td>-2</td>\n",
       "      <td>0.7</td>\n",
       "    </tr>\n",
       "    <tr>\n",
       "      <th>4</th>\n",
       "      <td>-2.1</td>\n",
       "      <td>0.3</td>\n",
       "      <td>-0.6</td>\n",
       "    </tr>\n",
       "    <tr>\n",
       "      <th>5</th>\n",
       "      <td>1.1</td>\n",
       "      <td>0.6</td>\n",
       "      <td>1.3</td>\n",
       "    </tr>\n",
       "  </tbody>\n",
       "</table>\n",
       "</div>"
      ],
      "text/plain": [
       "  Standing up Unnamed: 13 Unnamed: 14\n",
       "1        -0.3         0.7          -1\n",
       "2         1.3        -1.6        -0.1\n",
       "3         2.4          -2         0.7\n",
       "4        -2.1         0.3        -0.6\n",
       "5         1.1         0.6         1.3"
      ]
     },
     "execution_count": 4,
     "metadata": {},
     "output_type": "execute_result"
    }
   ],
   "source": [
    "#Standing.head(10)\n",
    "Standing_up.head()"
   ]
  },
  {
   "cell_type": "code",
   "execution_count": 5,
   "metadata": {},
   "outputs": [
    {
     "data": {
      "text/html": [
       "<div>\n",
       "<style scoped>\n",
       "    .dataframe tbody tr th:only-of-type {\n",
       "        vertical-align: middle;\n",
       "    }\n",
       "\n",
       "    .dataframe tbody tr th {\n",
       "        vertical-align: top;\n",
       "    }\n",
       "\n",
       "    .dataframe thead th {\n",
       "        text-align: right;\n",
       "    }\n",
       "</style>\n",
       "<table border=\"1\" class=\"dataframe\">\n",
       "  <thead>\n",
       "    <tr style=\"text-align: right;\">\n",
       "      <th></th>\n",
       "      <th>Lying down</th>\n",
       "      <th>Unnamed: 10</th>\n",
       "      <th>Unnamed: 11</th>\n",
       "    </tr>\n",
       "  </thead>\n",
       "  <tbody>\n",
       "    <tr>\n",
       "      <th>1</th>\n",
       "      <td>-0.5</td>\n",
       "      <td>-1.1</td>\n",
       "      <td>1</td>\n",
       "    </tr>\n",
       "    <tr>\n",
       "      <th>2</th>\n",
       "      <td>0.7</td>\n",
       "      <td>-0.3</td>\n",
       "      <td>-0.4</td>\n",
       "    </tr>\n",
       "    <tr>\n",
       "      <th>3</th>\n",
       "      <td>0.6</td>\n",
       "      <td>0.5</td>\n",
       "      <td>1.5</td>\n",
       "    </tr>\n",
       "    <tr>\n",
       "      <th>4</th>\n",
       "      <td>1.8</td>\n",
       "      <td>-0.1</td>\n",
       "      <td>-0.4</td>\n",
       "    </tr>\n",
       "    <tr>\n",
       "      <th>5</th>\n",
       "      <td>-1.8</td>\n",
       "      <td>0.3</td>\n",
       "      <td>-0.2</td>\n",
       "    </tr>\n",
       "  </tbody>\n",
       "</table>\n",
       "</div>"
      ],
      "text/plain": [
       "  Lying down Unnamed: 10 Unnamed: 11\n",
       "1       -0.5        -1.1           1\n",
       "2        0.7        -0.3        -0.4\n",
       "3        0.6         0.5         1.5\n",
       "4        1.8        -0.1        -0.4\n",
       "5       -1.8         0.3        -0.2"
      ]
     },
     "execution_count": 5,
     "metadata": {},
     "output_type": "execute_result"
    }
   ],
   "source": [
    "Lying_down.head()"
   ]
  },
  {
   "cell_type": "code",
   "execution_count": 6,
   "metadata": {},
   "outputs": [],
   "source": [
    "## compute feature database\n",
    "prepared_features = []\n",
    "window_size = 12\n",
    "stride = 6\n",
    "# current best:\n",
    "# window_size = 15   or 12\n",
    "# stride = 6         or 5\n",
    "\n",
    "# windowing and overlaping\n",
    "#test_data = Standing.loc[15]\n",
    "\n",
    "Feeding_data_list = [Feeding[i:i+window_size] for i in range(0, len(Feeding), stride) if i+window_size<=len(Feeding)]\n",
    "\n",
    "Lying_data_list = [Lying[i:i+window_size] for i in range(0, len(Lying), stride) if i+window_size<=len(Lying)]\n",
    "\n",
    "Lying_down_data_list = [Lying_down[i:i+window_size] for i in range(0, len(Lying_down), stride) if i+window_size<=len(Lying_down)]\n",
    "\n",
    "Standing_data_list = [Standing[i:i+window_size] for i in range(0, len(Standing), stride) if i+window_size<=len(Standing)]\n",
    "\n",
    "Standing_up_data_list = [Standing_up[i:i+window_size] for i in range(0, len(Standing_up), stride) if i+window_size<=len(Standing_up)]\n",
    "\n",
    "Normal_walking_data_list = [Normal_walking[i:i+window_size] for i in range(0, len(Normal_walking), stride) if i+window_size<=len(Normal_walking)]\n",
    "\n",
    "Active_walking_data_list = [Active_walking[i:i+window_size] for i in range(0, len(Active_walking), stride) if i+window_size<=len(Active_walking)]\n"
   ]
  },
  {
   "cell_type": "code",
   "execution_count": 7,
   "metadata": {},
   "outputs": [],
   "source": [
    "# include lib for frequency domain features computations\n",
    "from scipy import signal"
   ]
  },
  {
   "cell_type": "code",
   "execution_count": 8,
   "metadata": {},
   "outputs": [],
   "source": [
    "# this function extract vector of features from raw data\n",
    "# Expected features:\n",
    "# 1. mean\n",
    "# 2. median\n",
    "# 3. variance\n",
    "# 4. range\n",
    "# 5. standard Deviation\n",
    "# 6. average\n",
    "# ---------------------------\n",
    "# 7. energy\n",
    "# 8. correlation\n",
    "# 9. velocity\n",
    "# 10. acceleration\n",
    "# 11. fundamental frequencies (DFT)\n",
    "# 12. signal peaks (using PSD - Power Spectral Density) \n",
    "# todo:...\n",
    "# spectral peak features (12 per channel): value and freq of first 6 peaks\n",
    "# for each chanel: x,  y, z:\n",
    "# ---> expecting to extract 12 features:\n",
    "# features  1-6: position of the highest 6 peaks\n",
    "# features 7-12: power levels of the highest 6 peaks\n",
    "\n",
    "# return feat: a numpy array of length 18 <todo>\n",
    "\n",
    "def featuresFromBuffer(at, fs):\n",
    "    feat = np.zeros(63)\n",
    "    #feat = []\n",
    "    x = np.array(at.iloc[:,0], dtype=np.float64)   # x acceleration component\n",
    "    y = np.array(at.iloc[:,1], dtype=np.float64)   # y\n",
    "    z = np.array(at.iloc[:,2], dtype=np.float64)   # z\n",
    "    #print(len(x))\n",
    "    # Average value in signal buffer for all three acceleration components (1 each)    \n",
    "    means = [np.mean(i) for i in [x, y, z]]\n",
    "    feat[0:3] = means\n",
    "    \n",
    "    # RMS value in signal buffer for all three acceleration components (1 each)\n",
    "    rms = [np.sqrt(np.mean(i**2)) for i in [x, y, z]]\n",
    "    feat[3:6] = rms\n",
    "    \n",
    "    # Standard deviation\n",
    "    std = [np.std(i) for i in [x, y, z]]\n",
    "    feat[6:9] = std\n",
    "    \n",
    "    # Variance\n",
    "    var = [np.var(i) for i in [x, y, z]]\n",
    "    feat[9:12] = var\n",
    "    \n",
    "    # Median\n",
    "    med = [np.median(i) for i in [x, y, z]]\n",
    "    feat[12:15] = med\n",
    "    \n",
    "    # Range\n",
    "    Range1 = [ np.amin(i) for i in [x, y, z]]    \n",
    "    feat[15:18] = Range1\n",
    "    Range2 = [ np.amax(i) for i in [x, y, z]]    \n",
    "    feat[18:21] = Range2\n",
    "    \n",
    "    # Energy\n",
    "    #energy = [ sum(i**2) for i in [x, y, z]]\n",
    "    #feat[39:42] = energy\n",
    "    \n",
    "    # Power Spectral Density\n",
    "    #psd = []\n",
    "    #for i in [x, y, z]:\n",
    "    #    f, p = signal.welch(i)\n",
    "    #    pp = p.tolist()\n",
    "    #   ff = f.tolist()\n",
    "    #    for ppp in pp:\n",
    "    #        psd.append(ppp)\n",
    "    #    for fff in ff:\n",
    "    #        psd.append(fff)\n",
    "        #psd.append(pp)\n",
    "        #print(psd)\n",
    "    #feat[21:63] = psd\n",
    "    \n",
    "# TODO:\n",
    "    # Spectral peak features\n",
    "    # Spectral power features\n",
    "    # Autocorrelation features\n",
    "    \n",
    "    return feat\n",
    "    "
   ]
  },
  {
   "cell_type": "code",
   "execution_count": 9,
   "metadata": {},
   "outputs": [],
   "source": [
    "## Definitons:\n",
    "# Feeding: 1\n",
    "# Lying: 2\n",
    "# Standing: 3\n",
    "# Lying down: 4\n",
    "# Standing up: 5\n",
    "# Normal walking: 6\n",
    "# Active walking: 7\n",
    "\n",
    "#data = [Feeding, Lying, Standing, Lying_down, Standing, Lying_down, Standing_up, Normal_walking, Active_walking]\n",
    "# features_vector is a list of numpy arrays\n",
    "features_vector = []\n",
    "\n",
    "lables = []\n",
    "\n",
    "#len(Feeding_data_list)\n",
    "#Feeding_data_list[1226]\n",
    "#Feeding"
   ]
  },
  {
   "cell_type": "code",
   "execution_count": 10,
   "metadata": {
    "scrolled": true
   },
   "outputs": [
    {
     "name": "stdout",
     "output_type": "stream",
     "text": [
      "begin->end\n"
     ]
    },
    {
     "name": "stderr",
     "output_type": "stream",
     "text": [
      "/home/kikyou/.local/lib/python3.6/site-packages/scipy/signal/spectral.py:1970: UserWarning: nperseg = 256 is greater than input length  = 12, using nperseg = 12\n",
      "  .format(nperseg, input_length))\n"
     ]
    }
   ],
   "source": [
    "print(\"begin->end\")\n",
    "# main loop of data preparation\n",
    "i = 0\n",
    "\n",
    "# Add Feeding feature and lable = 1\n",
    "for action in Feeding_data_list:\n",
    "    feat = featuresFromBuffer(action, 5)\n",
    "    features_vector.append(feat)\n",
    "    lables.append(1)\n",
    "\n",
    "# Add Lying feature and lable = 2\n",
    "for action in Lying_data_list:\n",
    "    feat = featuresFromBuffer(action, 5)\n",
    "    features_vector.append(feat)\n",
    "    lables.append(2)\n",
    "    \n",
    "# Add Standing feature and lable = 3\n",
    "for action in Standing_data_list:\n",
    "    feat = featuresFromBuffer(action, 5)\n",
    "    features_vector.append(feat)\n",
    "    lables.append(3)\n",
    "    \n",
    "# Add Lying_down feature and lable = 4\n",
    "for action in Lying_down_data_list:\n",
    "    feat = featuresFromBuffer(action, 5)\n",
    "    features_vector.append(feat)\n",
    "    lables.append(4)\n",
    "    \n",
    "# Add Standing_up feature and lable = 5\n",
    "for action in Standing_up_data_list:\n",
    "    feat = featuresFromBuffer(action, 5)\n",
    "    features_vector.append(feat)\n",
    "    lables.append(5)\n",
    "    \n",
    "# Add Normal_walking feature and lable = 6\n",
    "for action in Normal_walking_data_list:\n",
    "    feat = featuresFromBuffer(action, 5)\n",
    "    features_vector.append(feat)\n",
    "    lables.append(6)\n",
    "    \n",
    "# Add Active_walking feature and lable = 7\n",
    "for action in Active_walking_data_list:\n",
    "    feat = featuresFromBuffer(action, 5)\n",
    "    features_vector.append(feat)\n",
    "    lables.append(7)\n",
    "\n",
    "    \n",
    "    "
   ]
  },
  {
   "cell_type": "code",
   "execution_count": 11,
   "metadata": {},
   "outputs": [
    {
     "data": {
      "text/plain": [
       "3678"
      ]
     },
     "execution_count": 11,
     "metadata": {},
     "output_type": "execute_result"
    },
    {
     "data": {
      "text/plain": [
       "3678"
      ]
     },
     "execution_count": 11,
     "metadata": {},
     "output_type": "execute_result"
    }
   ],
   "source": [
    "len(features_vector)\n",
    "\n",
    "len(lables)"
   ]
  },
  {
   "cell_type": "code",
   "execution_count": 12,
   "metadata": {
    "scrolled": true
   },
   "outputs": [
    {
     "name": "stdout",
     "output_type": "stream",
     "text": [
      "\n",
      "Accuracy on training set: 0.90\n",
      "\n",
      "Accuracy on test set: 0.80\n"
     ]
    }
   ],
   "source": [
    "# prepare data train;\n",
    "X_train, X_test,y_train, y_test = train_test_split(features_vector, lables,test_size=0.4, random_state=0)\n",
    "\n",
    "this_C = 100\n",
    "clf = SVC(C=this_C, cache_size=200, class_weight=None, coef0=0.0,\n",
    "    decision_function_shape='ovr', degree=5, gamma='scale', kernel='rbf',\n",
    "    max_iter=-1, probability=False, random_state=None, shrinking=True,\n",
    "    tol=0.001, verbose=False).fit(X_train, y_train)\n",
    "print(\"\\nAccuracy on training set: {:.2f}\".format(clf.score(X_train, y_train)))\n",
    "print(\"\\nAccuracy on test set: {:.2f}\".format(clf.score(X_test, y_test)))\n",
    "\n",
    "\n",
    "# Linear kernel + gamma='scale': 90.0\n",
    "# rbf: 89\n",
    "# poly: 86\n",
    "\n",
    "#gamma='auto_deprecated'"
   ]
  },
  {
   "cell_type": "code",
   "execution_count": 13,
   "metadata": {},
   "outputs": [
    {
     "data": {
      "text/plain": [
       "<Figure size 1080x720 with 0 Axes>"
      ]
     },
     "execution_count": 13,
     "metadata": {},
     "output_type": "execute_result"
    },
    {
     "data": {
      "text/plain": [
       "<matplotlib.axes._subplots.AxesSubplot at 0x7fc73f104ba8>"
      ]
     },
     "execution_count": 13,
     "metadata": {},
     "output_type": "execute_result"
    },
    {
     "data": {
      "text/plain": [
       "Text(0.5, 1.0, 'SVM rbf Kernel \\nAccuracy:0.797')"
      ]
     },
     "execution_count": 13,
     "metadata": {},
     "output_type": "execute_result"
    },
    {
     "data": {
      "text/plain": [
       "Text(114.0, 0.5, 'True label')"
      ]
     },
     "execution_count": 13,
     "metadata": {},
     "output_type": "execute_result"
    },
    {
     "data": {
      "text/plain": [
       "Text(0.5, 69.0, 'Predicted label')"
      ]
     },
     "execution_count": 13,
     "metadata": {},
     "output_type": "execute_result"
    },
    {
     "data": {
      "image/png": "[encoded data removed]",
      "text/plain": [
       "<Figure size 1080x720 with 2 Axes>"
      ]
     },
     "metadata": {},
     "output_type": "display_data"
    }
   ],
   "source": [
    "# make color\n",
    "import seaborn as sns\n",
    "from matplotlib import cm\n",
    "from sklearn.metrics import accuracy_score, precision_score, recall_score, f1_score\n",
    "\n",
    "\n",
    "# confusion matrices:\n",
    "svm_predicted = clf.predict(X_test)\n",
    "\n",
    "\n",
    "confusion_test = confusion_matrix(y_test, svm_predicted)\n",
    "\n",
    "\n",
    "df_cm = pd.DataFrame(confusion_test,\n",
    "                    index = [i for i in range(1, 8)], columns = [i for i in range(1, 8)])\n",
    "\n",
    "\n",
    "plt.figure(figsize=(15,10))\n",
    "\n",
    "sns.heatmap(df_cm, annot=True)\n",
    "\n",
    "plt.title('SVM rbf Kernel \\nAccuracy:{0:.3f}'.format(accuracy_score(y_test, \n",
    "                                                                       svm_predicted)))\n",
    "plt.ylabel('True label')\n",
    "plt.xlabel('Predicted label')"
   ]
  },
  {
   "cell_type": "code",
   "execution_count": 14,
   "metadata": {},
   "outputs": [
    {
     "name": "stdout",
     "output_type": "stream",
     "text": [
      "              precision    recall  f1-score   support\n",
      "\n",
      "           1       0.67      0.88      0.76       261\n",
      "           2       1.00      1.00      1.00       301\n",
      "           3       0.69      0.38      0.49       182\n",
      "           4       0.43      0.45      0.44       121\n",
      "           5       0.47      0.45      0.46       115\n",
      "           6       1.00      0.99      0.99       282\n",
      "           7       0.89      0.90      0.89       210\n",
      "\n",
      "   micro avg       0.80      0.80      0.80      1472\n",
      "   macro avg       0.73      0.72      0.72      1472\n",
      "weighted avg       0.80      0.80      0.79      1472\n",
      "\n"
     ]
    }
   ],
   "source": [
    "print(classification_report(y_test, svm_predicted))\n",
    "# Accuracy is calculated follow vertically\n",
    "# for example:\n",
    "# accuracy for the 3rd status: 58/(58+23)"
   ]
  }
 ],
 "metadata": {
  "kernelspec": {
   "display_name": "Python 3",
   "language": "python",
   "name": "python3"
  },
  "language_info": {
   "codemirror_mode": {
    "name": "ipython",
    "version": 3
   },
   "file_extension": ".py",
   "mimetype": "text/x-python",
   "name": "python",
   "nbconvert_exporter": "python",
   "pygments_lexer": "ipython3",
   "version": "3.6.5"
  }
 },
 "nbformat": 4,
 "nbformat_minor": 2
}
