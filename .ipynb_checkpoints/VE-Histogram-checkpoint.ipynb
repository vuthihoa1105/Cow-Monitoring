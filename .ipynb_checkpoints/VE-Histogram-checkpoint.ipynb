{
 "cells": [
  {
   "cell_type": "code",
   "execution_count": 2,
   "metadata": {},
   "outputs": [],
   "source": [
    "# All includes\n",
    "\n",
    "import numpy as np\n",
    "import matplotlib\n",
    "import matplotlib.pyplot as plt\n",
    "from sklearn import metrics\n",
    "import pandas as pd\n",
    "\n",
    "import os\n",
    "from IPython.core.interactiveshell import InteractiveShell\n",
    "InteractiveShell.ast_node_interactivity = \"all\"\n",
    "\n",
    "# for svm\n",
    "from sklearn.model_selection import train_test_split\n",
    "from sklearn.model_selection import GridSearchCV\n",
    "from sklearn.metrics import classification_report\n",
    "from sklearn.metrics import confusion_matrix\n",
    "from sklearn.svm import SVC\n",
    "\n",
    "# Current best:\n",
    "# Decision Tree: 99/91%\n",
    "\n",
    "\n",
    "## Current Best for SVM: no frequency features\n",
    "# window_size: 12\n",
    "# Stridee: 5\n",
    "# Overall Accuracy: 90/90\n",
    "\n",
    "\n",
    "# if frequency involved --> achieve 91/89 accuracy"
   ]
  },
  {
   "cell_type": "code",
   "execution_count": 3,
   "metadata": {},
   "outputs": [],
   "source": [
    "# Import data\n",
    "\n",
    "df = pd.read_excel('data.xlsx')\n",
    "\n",
    "df = df.drop(columns=['Unnamed: 21', 'Unnamed: 22', 'Unnamed: 23'])\n",
    "\n",
    "#df.head()"
   ]
  },
  {
   "cell_type": "code",
   "execution_count": 4,
   "metadata": {},
   "outputs": [],
   "source": [
    "# Prepare data\n",
    "\n",
    "#df.columns\n",
    "\n",
    "Feeding = df[['Feeding', 'Unnamed: 1', 'Unnamed: 2']]\n",
    "Feeding = Feeding.dropna()\n",
    "Feeding.index = pd.RangeIndex(len(Feeding.index))\n",
    "Feeding = Feeding.drop(0)\n",
    "\n",
    "Lying = df[['Lying', 'Unnamed: 4', 'Unnamed: 5']]\n",
    "Lying = Lying.dropna()\n",
    "Lying.index = pd.RangeIndex(len(Lying.index))\n",
    "Lying = Lying.drop(0)\n",
    "\n",
    "Standing = df[['Standing', 'Unnamed: 7', 'Unnamed: 8']]\n",
    "Standing = Standing.dropna()\n",
    "Standing.index = pd.RangeIndex(len(Standing.index))\n",
    "Standing = Standing.drop(0)\n",
    "\n",
    "Lying_down = df[['Lying down', 'Unnamed: 10', 'Unnamed: 11']]\n",
    "Lying_down = Lying_down.dropna()\n",
    "Lying_down.index = pd.RangeIndex(len(Lying_down.index))\n",
    "Lying_down = Lying_down.drop(0)\n",
    "\n",
    "Standing_up = df[['Standing up', 'Unnamed: 13', 'Unnamed: 14']]\n",
    "Standing_up = Standing_up.dropna()\n",
    "Standing_up.index = pd.RangeIndex(len(Standing_up.index))\n",
    "Standing_up = Standing_up.drop(0)\n",
    "\n",
    "Normal_walking = df[['Normal walking', 'Unnamed: 16', 'Unnamed: 17']]\n",
    "Normal_walking = Normal_walking.dropna()\n",
    "Normal_walking.index = pd.RangeIndex(len(Normal_walking.index))\n",
    "Normal_walking = Normal_walking.drop(0)\n",
    "\n",
    "Active_walking = df[['Active walking', 'Unnamed: 19', 'Unnamed: 20']]\n",
    "Active_walking = Active_walking.dropna()\n",
    "Active_walking.index = pd.RangeIndex(len(Active_walking.index))\n",
    "Active_walking = Active_walking.drop(0)\n",
    "\n",
    "#Active_walking.columns"
   ]
  },
  {
   "cell_type": "code",
   "execution_count": 5,
   "metadata": {},
   "outputs": [
    {
     "name": "stdout",
     "output_type": "stream",
     "text": [
      "1.feeding:  614.0\n",
      "2.lying:  732.0\n",
      "3.standing:  452.0\n",
      "4.lying_down:  327.0\n",
      "5.standing_up:  304.0\n",
      "6.normal_walking:  739.0\n",
      "7.active_walking:  517.0\n"
     ]
    }
   ],
   "source": [
    "print('1.feeding: ', len(Feeding)/6)\n",
    "print('2.lying: ', len(Lying)/6)\n",
    "print('3.standing: ', len(Standing)/6)\n",
    "print('4.lying_down: ', len(Lying_down)/6)\n",
    "print('5.standing_up: ', len(Standing_up)/6)\n",
    "print('6.normal_walking: ', len(Normal_walking)/6 )\n",
    "print('7.active_walking: ', len(Active_walking)/6 )"
   ]
  },
  {
   "cell_type": "code",
   "execution_count": 6,
   "metadata": {},
   "outputs": [],
   "source": [
    "import matplotlib.pyplot as plt\n"
   ]
  },
  {
   "cell_type": "code",
   "execution_count": 7,
   "metadata": {},
   "outputs": [],
   "source": [
    "sample_feeding_x = Feeding['Feeding']\n",
    "sample_feeding_y = Feeding['Unnamed: 1']\n",
    "sample_feeding_z = Feeding['Unnamed: 2']\n",
    "sample_lying_x = Lying['Lying']\n",
    "sample_lying_y = Lying['Unnamed: 4']\n",
    "sample_lying_z = Lying['Unnamed: 5']\n",
    "sample_lyingdown_x = Lying_down['Lying down']\n",
    "sample_lyingdown_y = Lying_down['Unnamed: 10']\n",
    "sample_lyingdown_z = Lying_down['Unnamed: 11']\n",
    "sample_standing_x = Standing['Standing']\n",
    "sample_standing_y = Standing['Unnamed: 7']\n",
    "sample_standing_z = Standing['Unnamed: 8']\n",
    "sample_standingup_x = Standing_up['Standing up']\n",
    "sample_standingup_y = Standing_up['Unnamed: 13']\n",
    "sample_standingup_z = Standing_up['Unnamed: 14']\n",
    "sample_normalw_x = Normal_walking['Normal walking']\n",
    "sample_normalw_y = Normal_walking['Unnamed: 16']\n",
    "sample_normalw_z = Normal_walking['Unnamed: 17']\n",
    "sample_activew_x = Active_walking['Active walking']\n",
    "sample_activew_y = Active_walking['Unnamed: 19']\n",
    "sample_activew_z = Active_walking['Unnamed: 20']\n",
    "\n",
    "feed_x = sample_feeding_x[1:18]\n",
    "feed_y = sample_feeding_y[1:18]\n",
    "feed_z = sample_feeding_z[1:18]\n",
    "\n",
    "ly_x = sample_lying_x[1:18]\n",
    "ly_y = sample_lying_y[1:18]\n",
    "ly_z = sample_lying_z[1:18]\n",
    "\n",
    "lydown_x = sample_lyingdown_x[1:18]\n",
    "lydown_y = sample_lyingdown_y[1:18]\n",
    "lydown_z = sample_lyingdown_z[1:18]\n",
    "\n",
    "stand_x = sample_standing_x[1:18]\n",
    "stand_y = sample_standing_y[1:18]\n",
    "stand_z = sample_standing_z[1:18]\n",
    "\n",
    "standup_x = sample_standingup_x[1:18]\n",
    "standup_y = sample_standingup_y[1:18]\n",
    "standup_z = sample_standingup_z[1:18]\n",
    "\n",
    "active_x = sample_activew_x[1:18]\n",
    "active_y = sample_activew_y[1:18]\n",
    "active_z = sample_activew_z[1:18]\n",
    "\n",
    "\n",
    "normal_x = sample_normalw_x[1:18]\n",
    "normal_y = sample_normalw_y[1:18]\n",
    "normal_z = sample_normalw_z[1:18]\n",
    "\n"
   ]
  },
  {
   "cell_type": "code",
   "execution_count": 9,
   "metadata": {},
   "outputs": [
    {
     "data": {
      "text/plain": [
       "<matplotlib.axes._subplots.AxesSubplot at 0x7fa8fa225a20>"
      ]
     },
     "execution_count": 9,
     "metadata": {},
     "output_type": "execute_result"
    },
    {
     "data": {
      "text/plain": [
       "Text(0.5, 1.0, 'FEEDING')"
      ]
     },
     "execution_count": 9,
     "metadata": {},
     "output_type": "execute_result"
    },
    {
     "data": {
      "text/plain": [
       "Text(0, 0.5, 'COUNTS')"
      ]
     },
     "execution_count": 9,
     "metadata": {},
     "output_type": "execute_result"
    },
    {
     "data": {
      "text/plain": [
       "<Figure size 432x288 with 0 Axes>"
      ]
     },
     "execution_count": 9,
     "metadata": {},
     "output_type": "execute_result"
    },
    {
     "data": {
      "text/plain": [
       "<matplotlib.axes._subplots.AxesSubplot at 0x7fa8fa1e6208>"
      ]
     },
     "execution_count": 9,
     "metadata": {},
     "output_type": "execute_result"
    },
    {
     "data": {
      "text/plain": [
       "Text(0.5, 1.0, 'LYING')"
      ]
     },
     "execution_count": 9,
     "metadata": {},
     "output_type": "execute_result"
    },
    {
     "data": {
      "text/plain": [
       "Text(0, 0.5, 'COUNTS')"
      ]
     },
     "execution_count": 9,
     "metadata": {},
     "output_type": "execute_result"
    },
    {
     "data": {
      "text/plain": [
       "<Figure size 432x288 with 0 Axes>"
      ]
     },
     "execution_count": 9,
     "metadata": {},
     "output_type": "execute_result"
    },
    {
     "data": {
      "text/plain": [
       "<matplotlib.axes._subplots.AxesSubplot at 0x7fa8fa316cc0>"
      ]
     },
     "execution_count": 9,
     "metadata": {},
     "output_type": "execute_result"
    },
    {
     "data": {
      "text/plain": [
       "Text(0.5, 1.0, 'STANDING')"
      ]
     },
     "execution_count": 9,
     "metadata": {},
     "output_type": "execute_result"
    },
    {
     "data": {
      "text/plain": [
       "Text(0, 0.5, 'COUNTS')"
      ]
     },
     "execution_count": 9,
     "metadata": {},
     "output_type": "execute_result"
    },
    {
     "data": {
      "text/plain": [
       "<Figure size 432x288 with 0 Axes>"
      ]
     },
     "execution_count": 9,
     "metadata": {},
     "output_type": "execute_result"
    },
    {
     "data": {
      "text/plain": [
       "<matplotlib.axes._subplots.AxesSubplot at 0x7fa8fa2939e8>"
      ]
     },
     "execution_count": 9,
     "metadata": {},
     "output_type": "execute_result"
    },
    {
     "data": {
      "text/plain": [
       "Text(0.5, 1.0, 'LYING DOWN')"
      ]
     },
     "execution_count": 9,
     "metadata": {},
     "output_type": "execute_result"
    },
    {
     "data": {
      "text/plain": [
       "Text(0, 0.5, 'COUNTS')"
      ]
     },
     "execution_count": 9,
     "metadata": {},
     "output_type": "execute_result"
    },
    {
     "data": {
      "text/plain": [
       "<Figure size 432x288 with 0 Axes>"
      ]
     },
     "execution_count": 9,
     "metadata": {},
     "output_type": "execute_result"
    },
    {
     "data": {
      "text/plain": [
       "<matplotlib.axes._subplots.AxesSubplot at 0x7fa8fa0bcc50>"
      ]
     },
     "execution_count": 9,
     "metadata": {},
     "output_type": "execute_result"
    },
    {
     "data": {
      "text/plain": [
       "Text(0.5, 1.0, 'STANDING UP')"
      ]
     },
     "execution_count": 9,
     "metadata": {},
     "output_type": "execute_result"
    },
    {
     "data": {
      "text/plain": [
       "Text(0, 0.5, 'COUNTS')"
      ]
     },
     "execution_count": 9,
     "metadata": {},
     "output_type": "execute_result"
    },
    {
     "data": {
      "text/plain": [
       "<Figure size 432x288 with 0 Axes>"
      ]
     },
     "execution_count": 9,
     "metadata": {},
     "output_type": "execute_result"
    },
    {
     "data": {
      "text/plain": [
       "<matplotlib.axes._subplots.AxesSubplot at 0x7fa8fa02f048>"
      ]
     },
     "execution_count": 9,
     "metadata": {},
     "output_type": "execute_result"
    },
    {
     "data": {
      "text/plain": [
       "Text(0.5, 1.0, 'NORMAL WALKING')"
      ]
     },
     "execution_count": 9,
     "metadata": {},
     "output_type": "execute_result"
    },
    {
     "data": {
      "text/plain": [
       "Text(0, 0.5, 'COUNTS')"
      ]
     },
     "execution_count": 9,
     "metadata": {},
     "output_type": "execute_result"
    },
    {
     "data": {
      "text/plain": [
       "<Figure size 432x288 with 0 Axes>"
      ]
     },
     "execution_count": 9,
     "metadata": {},
     "output_type": "execute_result"
    },
    {
     "data": {
      "text/plain": [
       "<matplotlib.axes._subplots.AxesSubplot at 0x7fa8f9fb04a8>"
      ]
     },
     "execution_count": 9,
     "metadata": {},
     "output_type": "execute_result"
    },
    {
     "data": {
      "text/plain": [
       "Text(0.5, 1.0, 'ACTIVE WALKING')"
      ]
     },
     "execution_count": 9,
     "metadata": {},
     "output_type": "execute_result"
    },
    {
     "data": {
      "text/plain": [
       "Text(0, 0.5, 'COUNTS')"
      ]
     },
     "execution_count": 9,
     "metadata": {},
     "output_type": "execute_result"
    },
    {
     "data": {
      "image/png": "[encoded data removed]",
      "text/plain": [
       "<Figure size 432x288 with 1 Axes>"
      ]
     },
     "metadata": {},
     "output_type": "display_data"
    },
    {
     "data": {
      "image/png": "[encoded data removed]",
      "text/plain": [
       "<Figure size 432x288 with 1 Axes>"
      ]
     },
     "metadata": {},
     "output_type": "display_data"
    },
    {
     "data": {
      "image/png": "[encoded data removed]",
      "text/plain": [
       "<Figure size 432x288 with 1 Axes>"
      ]
     },
     "metadata": {},
     "output_type": "display_data"
    },
    {
     "data": {
      "image/png": "[encoded data removed]",
      "text/plain": [
       "<Figure size 432x288 with 1 Axes>"
      ]
     },
     "metadata": {},
     "output_type": "display_data"
    },
    {
     "data": {
      "image/png": "[encoded data removed]",
      "text/plain": [
       "<Figure size 432x288 with 1 Axes>"
      ]
     },
     "metadata": {},
     "output_type": "display_data"
    },
    {
     "data": {
      "image/png": "[encoded data removed]",
      "text/plain": [
       "<Figure size 432x288 with 1 Axes>"
      ]
     },
     "metadata": {},
     "output_type": "display_data"
    },
    {
     "data": {
      "image/png": "[encoded data removed]",
      "text/plain": [
       "<Figure size 432x288 with 1 Axes>"
      ]
     },
     "metadata": {},
     "output_type": "display_data"
    }
   ],
   "source": [
    "# histogram\n",
    "#fig, axes = plt.subplots(nrows=3, ncols=2, figsize=(7, 7))\n",
    "\n",
    "#axes[0, 0].hist(feed_x)\n",
    "\n",
    "feed_x.plot.hist(grid=True, bins=20, range=[-3, 3], rwidth=0.9,\n",
    "                   color='#607c8e')\n",
    "plt.title('FEEDING')\n",
    "plt.ylabel('COUNTS')\n",
    "#plt.grid(axis='y', alpha=0.75)\n",
    "\n",
    "\n",
    "plt.figure(2)\n",
    "ly_x.plot.hist(grid=True, bins=20, range=[-3, 3], rwidth=0.9,\n",
    "                   color='#607c8e')\n",
    "plt.title('LYING')\n",
    "plt.ylabel('COUNTS')\n",
    "#plt.grid(axis='y', alpha=0.75)\n",
    "\n",
    "plt.figure(3)\n",
    "stand_x.plot.hist(grid=True, bins=20, range=[-3, 3], rwidth=0.9,\n",
    "                   color='#607c8e')\n",
    "plt.title('STANDING')\n",
    "plt.ylabel('COUNTS')\n",
    "#plt.grid(axis='y', alpha=0.75)\n",
    "\n",
    "plt.figure(4)\n",
    "lydown_x.plot.hist(grid=True, bins=20, range=[-3, 3], rwidth=0.9,\n",
    "                   color='#607c8e')\n",
    "plt.title('LYING DOWN')\n",
    "plt.ylabel('COUNTS')\n",
    "#plt.grid(axis='y', alpha=0.75)\n",
    "\n",
    "plt.figure(5)\n",
    "standup_x.plot.hist(grid=True, bins=20, range=[-3, 3], rwidth=0.9,\n",
    "                   color='#607c8e')\n",
    "plt.title('STANDING UP')\n",
    "plt.ylabel('COUNTS')\n",
    "plt.grid(axis='y', alpha=2)\n",
    "\n",
    "\n",
    "plt.figure(6)\n",
    "normal_x.plot.hist(grid=True, bins=20, range=[-3, 3], rwidth=0.9,\n",
    "                   color='#607c8e')\n",
    "plt.title('NORMAL WALKING')\n",
    "plt.ylabel('COUNTS')\n",
    "#plt.grid(axis='y', alpha=0.75)\n",
    "\n",
    "plt.figure(7)\n",
    "active_x.plot.hist(grid=True, bins=20, range=[-3, 3], rwidth=0.9,\n",
    "                   color='#607c8e')\n",
    "plt.title('ACTIVE WALKING')\n",
    "plt.ylabel('COUNTS')\n",
    "#plt.grid(axis='y', alpha=0.75)"
   ]
  },
  {
   "cell_type": "code",
   "execution_count": 11,
   "metadata": {},
   "outputs": [
    {
     "data": {
      "text/plain": [
       "<matplotlib.axes._subplots.AxesSubplot at 0x7fa8f9ffb518>"
      ]
     },
     "execution_count": 11,
     "metadata": {},
     "output_type": "execute_result"
    },
    {
     "data": {
      "text/plain": [
       "Text(0.5, 1.0, 'FEEDING')"
      ]
     },
     "execution_count": 11,
     "metadata": {},
     "output_type": "execute_result"
    },
    {
     "data": {
      "text/plain": [
       "Text(0, 0.5, 'COUNTS')"
      ]
     },
     "execution_count": 11,
     "metadata": {},
     "output_type": "execute_result"
    },
    {
     "data": {
      "text/plain": [
       "<Figure size 432x288 with 0 Axes>"
      ]
     },
     "execution_count": 11,
     "metadata": {},
     "output_type": "execute_result"
    },
    {
     "data": {
      "text/plain": [
       "<matplotlib.axes._subplots.AxesSubplot at 0x7fa8fa06c668>"
      ]
     },
     "execution_count": 11,
     "metadata": {},
     "output_type": "execute_result"
    },
    {
     "data": {
      "text/plain": [
       "Text(0.5, 1.0, 'LYING')"
      ]
     },
     "execution_count": 11,
     "metadata": {},
     "output_type": "execute_result"
    },
    {
     "data": {
      "text/plain": [
       "Text(0, 0.5, 'COUNTS')"
      ]
     },
     "execution_count": 11,
     "metadata": {},
     "output_type": "execute_result"
    },
    {
     "data": {
      "text/plain": [
       "<Figure size 432x288 with 0 Axes>"
      ]
     },
     "execution_count": 11,
     "metadata": {},
     "output_type": "execute_result"
    },
    {
     "data": {
      "text/plain": [
       "<matplotlib.axes._subplots.AxesSubplot at 0x7fa8fa202908>"
      ]
     },
     "execution_count": 11,
     "metadata": {},
     "output_type": "execute_result"
    },
    {
     "data": {
      "text/plain": [
       "Text(0.5, 1.0, 'STANDING')"
      ]
     },
     "execution_count": 11,
     "metadata": {},
     "output_type": "execute_result"
    },
    {
     "data": {
      "text/plain": [
       "Text(0, 0.5, 'COUNTS')"
      ]
     },
     "execution_count": 11,
     "metadata": {},
     "output_type": "execute_result"
    },
    {
     "data": {
      "text/plain": [
       "<Figure size 432x288 with 0 Axes>"
      ]
     },
     "execution_count": 11,
     "metadata": {},
     "output_type": "execute_result"
    },
    {
     "data": {
      "text/plain": [
       "<matplotlib.axes._subplots.AxesSubplot at 0x7fa8f6704908>"
      ]
     },
     "execution_count": 11,
     "metadata": {},
     "output_type": "execute_result"
    },
    {
     "data": {
      "text/plain": [
       "Text(0.5, 1.0, 'LYING DOWN')"
      ]
     },
     "execution_count": 11,
     "metadata": {},
     "output_type": "execute_result"
    },
    {
     "data": {
      "text/plain": [
       "Text(0, 0.5, 'COUNTS')"
      ]
     },
     "execution_count": 11,
     "metadata": {},
     "output_type": "execute_result"
    },
    {
     "data": {
      "text/plain": [
       "<Figure size 432x288 with 0 Axes>"
      ]
     },
     "execution_count": 11,
     "metadata": {},
     "output_type": "execute_result"
    },
    {
     "data": {
      "text/plain": [
       "<matplotlib.axes._subplots.AxesSubplot at 0x7fa8fa9e3f28>"
      ]
     },
     "execution_count": 11,
     "metadata": {},
     "output_type": "execute_result"
    },
    {
     "data": {
      "text/plain": [
       "Text(0.5, 1.0, 'STANDING UP')"
      ]
     },
     "execution_count": 11,
     "metadata": {},
     "output_type": "execute_result"
    },
    {
     "data": {
      "text/plain": [
       "Text(0, 0.5, 'COUNTS')"
      ]
     },
     "execution_count": 11,
     "metadata": {},
     "output_type": "execute_result"
    },
    {
     "data": {
      "text/plain": [
       "<Figure size 432x288 with 0 Axes>"
      ]
     },
     "execution_count": 11,
     "metadata": {},
     "output_type": "execute_result"
    },
    {
     "data": {
      "text/plain": [
       "<matplotlib.axes._subplots.AxesSubplot at 0x7fa8f66dfc88>"
      ]
     },
     "execution_count": 11,
     "metadata": {},
     "output_type": "execute_result"
    },
    {
     "data": {
      "text/plain": [
       "Text(0.5, 1.0, 'NORMAL WALKING')"
      ]
     },
     "execution_count": 11,
     "metadata": {},
     "output_type": "execute_result"
    },
    {
     "data": {
      "text/plain": [
       "Text(0, 0.5, 'COUNTS')"
      ]
     },
     "execution_count": 11,
     "metadata": {},
     "output_type": "execute_result"
    },
    {
     "data": {
      "text/plain": [
       "<Figure size 432x288 with 0 Axes>"
      ]
     },
     "execution_count": 11,
     "metadata": {},
     "output_type": "execute_result"
    },
    {
     "data": {
      "text/plain": [
       "<matplotlib.axes._subplots.AxesSubplot at 0x7fa8fa624668>"
      ]
     },
     "execution_count": 11,
     "metadata": {},
     "output_type": "execute_result"
    },
    {
     "data": {
      "text/plain": [
       "Text(0.5, 1.0, 'ACTIVE WALKING')"
      ]
     },
     "execution_count": 11,
     "metadata": {},
     "output_type": "execute_result"
    },
    {
     "data": {
      "text/plain": [
       "Text(0, 0.5, 'COUNTS')"
      ]
     },
     "execution_count": 11,
     "metadata": {},
     "output_type": "execute_result"
    },
    {
     "data": {
      "image/png": "[encoded data removed]",
      "text/plain": [
       "<Figure size 432x288 with 1 Axes>"
      ]
     },
     "metadata": {},
     "output_type": "display_data"
    },
    {
     "data": {
      "image/png": "[encoded data removed]",
      "text/plain": [
       "<Figure size 432x288 with 1 Axes>"
      ]
     },
     "metadata": {},
     "output_type": "display_data"
    },
    {
     "data": {
      "image/png": "[encoded data removed]",
      "text/plain": [
       "<Figure size 432x288 with 1 Axes>"
      ]
     },
     "metadata": {},
     "output_type": "display_data"
    },
    {
     "data": {
      "image/png": "[encoded data removed]",
      "text/plain": [
       "<Figure size 432x288 with 1 Axes>"
      ]
     },
     "metadata": {},
     "output_type": "display_data"
    },
    {
     "data": {
      "image/png": "[encoded data removed]",
      "text/plain": [
       "<Figure size 432x288 with 1 Axes>"
      ]
     },
     "metadata": {},
     "output_type": "display_data"
    },
    {
     "data": {
      "image/png": "[encoded data removed]",
      "text/plain": [
       "<Figure size 432x288 with 1 Axes>"
      ]
     },
     "metadata": {},
     "output_type": "display_data"
    },
    {
     "data": {
      "image/png": "[encoded data removed]",
      "text/plain": [
       "<Figure size 432x288 with 1 Axes>"
      ]
     },
     "metadata": {},
     "output_type": "display_data"
    }
   ],
   "source": [
    "#axes[0, 0].hist(feed_x)\n",
    "# y-axis\n",
    "\n",
    "feed_y.plot.hist(grid=True, bins=20, range=[-3, 3], rwidth=0.9,\n",
    "                   color='#607c8e')\n",
    "plt.title('FEEDING')\n",
    "plt.ylabel('COUNTS')\n",
    "#plt.grid(axis='y', alpha=0.75)\n",
    "\n",
    "\n",
    "plt.figure(2)\n",
    "ly_y.plot.hist(grid=True, bins=20, range=[-3, 3], rwidth=0.9,\n",
    "                   color='#607c8e')\n",
    "plt.title('LYING')\n",
    "plt.ylabel('COUNTS')\n",
    "#plt.grid(axis='y', alpha=0.75)\n",
    "\n",
    "plt.figure(3)\n",
    "stand_y.plot.hist(grid=True, bins=20, range=[-3, 3], rwidth=0.9,\n",
    "                   color='#607c8e')\n",
    "plt.title('STANDING')\n",
    "plt.ylabel('COUNTS')\n",
    "#plt.grid(axis='y', alpha=0.75)\n",
    "\n",
    "plt.figure(4)\n",
    "lydown_y.plot.hist(grid=True, bins=20, range=[-3, 3], rwidth=0.9,\n",
    "                   color='#607c8e')\n",
    "plt.title('LYING DOWN')\n",
    "plt.ylabel('COUNTS')\n",
    "#plt.grid(axis='y', alpha=0.75)\n",
    "\n",
    "plt.figure(5)\n",
    "standup_y.plot.hist(grid=True, bins=20, range=[-3, 3], rwidth=0.9,\n",
    "                   color='#607c8e')\n",
    "plt.title('STANDING UP')\n",
    "plt.ylabel('COUNTS')\n",
    "plt.grid(axis='y', alpha=2)\n",
    "\n",
    "\n",
    "plt.figure(6)\n",
    "normal_y.plot.hist(grid=True, bins=20, range=[-3, 3], rwidth=0.9,\n",
    "                   color='#607c8e')\n",
    "plt.title('NORMAL WALKING')\n",
    "plt.ylabel('COUNTS')\n",
    "#plt.grid(axis='y', alpha=0.75)\n",
    "\n",
    "plt.figure(7)\n",
    "active_y.plot.hist(grid=True, bins=20, rwidth=0.9,\n",
    "                   color='#607c8e')\n",
    "plt.title('ACTIVE WALKING')\n",
    "plt.ylabel('COUNTS')\n",
    "#plt.grid(axis='y', alpha=0.75)"
   ]
  },
  {
   "cell_type": "code",
   "execution_count": 14,
   "metadata": {},
   "outputs": [
    {
     "data": {
      "text/plain": [
       "<matplotlib.axes._subplots.AxesSubplot at 0x7fa8f6463f28>"
      ]
     },
     "execution_count": 14,
     "metadata": {},
     "output_type": "execute_result"
    },
    {
     "data": {
      "text/plain": [
       "Text(0.5, 1.0, 'FEEDING')"
      ]
     },
     "execution_count": 14,
     "metadata": {},
     "output_type": "execute_result"
    },
    {
     "data": {
      "text/plain": [
       "Text(0, 0.5, 'COUNTS')"
      ]
     },
     "execution_count": 14,
     "metadata": {},
     "output_type": "execute_result"
    },
    {
     "data": {
      "text/plain": [
       "<Figure size 432x288 with 0 Axes>"
      ]
     },
     "execution_count": 14,
     "metadata": {},
     "output_type": "execute_result"
    },
    {
     "data": {
      "text/plain": [
       "<matplotlib.axes._subplots.AxesSubplot at 0x7fa8f62cde80>"
      ]
     },
     "execution_count": 14,
     "metadata": {},
     "output_type": "execute_result"
    },
    {
     "data": {
      "text/plain": [
       "Text(0.5, 1.0, 'LYING')"
      ]
     },
     "execution_count": 14,
     "metadata": {},
     "output_type": "execute_result"
    },
    {
     "data": {
      "text/plain": [
       "Text(0, 0.5, 'COUNTS')"
      ]
     },
     "execution_count": 14,
     "metadata": {},
     "output_type": "execute_result"
    },
    {
     "data": {
      "text/plain": [
       "<Figure size 432x288 with 0 Axes>"
      ]
     },
     "execution_count": 14,
     "metadata": {},
     "output_type": "execute_result"
    },
    {
     "data": {
      "text/plain": [
       "<matplotlib.axes._subplots.AxesSubplot at 0x7fa8f66cea20>"
      ]
     },
     "execution_count": 14,
     "metadata": {},
     "output_type": "execute_result"
    },
    {
     "data": {
      "text/plain": [
       "Text(0.5, 1.0, 'STANDING')"
      ]
     },
     "execution_count": 14,
     "metadata": {},
     "output_type": "execute_result"
    },
    {
     "data": {
      "text/plain": [
       "Text(0, 0.5, 'COUNTS')"
      ]
     },
     "execution_count": 14,
     "metadata": {},
     "output_type": "execute_result"
    },
    {
     "data": {
      "text/plain": [
       "<Figure size 432x288 with 0 Axes>"
      ]
     },
     "execution_count": 14,
     "metadata": {},
     "output_type": "execute_result"
    },
    {
     "data": {
      "text/plain": [
       "<matplotlib.axes._subplots.AxesSubplot at 0x7fa8fa5a3240>"
      ]
     },
     "execution_count": 14,
     "metadata": {},
     "output_type": "execute_result"
    },
    {
     "data": {
      "text/plain": [
       "Text(0.5, 1.0, 'LYING DOWN')"
      ]
     },
     "execution_count": 14,
     "metadata": {},
     "output_type": "execute_result"
    },
    {
     "data": {
      "text/plain": [
       "Text(0, 0.5, 'COUNTS')"
      ]
     },
     "execution_count": 14,
     "metadata": {},
     "output_type": "execute_result"
    },
    {
     "data": {
      "text/plain": [
       "<Figure size 432x288 with 0 Axes>"
      ]
     },
     "execution_count": 14,
     "metadata": {},
     "output_type": "execute_result"
    },
    {
     "data": {
      "text/plain": [
       "<matplotlib.axes._subplots.AxesSubplot at 0x7fa8fa0035c0>"
      ]
     },
     "execution_count": 14,
     "metadata": {},
     "output_type": "execute_result"
    },
    {
     "data": {
      "text/plain": [
       "Text(0.5, 1.0, 'STANDING UP')"
      ]
     },
     "execution_count": 14,
     "metadata": {},
     "output_type": "execute_result"
    },
    {
     "data": {
      "text/plain": [
       "Text(0, 0.5, 'COUNTS')"
      ]
     },
     "execution_count": 14,
     "metadata": {},
     "output_type": "execute_result"
    },
    {
     "data": {
      "text/plain": [
       "<Figure size 432x288 with 0 Axes>"
      ]
     },
     "execution_count": 14,
     "metadata": {},
     "output_type": "execute_result"
    },
    {
     "data": {
      "text/plain": [
       "<matplotlib.axes._subplots.AxesSubplot at 0x7fa8fa6e1898>"
      ]
     },
     "execution_count": 14,
     "metadata": {},
     "output_type": "execute_result"
    },
    {
     "data": {
      "text/plain": [
       "Text(0.5, 1.0, 'NORMAL WALKING')"
      ]
     },
     "execution_count": 14,
     "metadata": {},
     "output_type": "execute_result"
    },
    {
     "data": {
      "text/plain": [
       "Text(0, 0.5, 'COUNTS')"
      ]
     },
     "execution_count": 14,
     "metadata": {},
     "output_type": "execute_result"
    },
    {
     "data": {
      "text/plain": [
       "<Figure size 432x288 with 0 Axes>"
      ]
     },
     "execution_count": 14,
     "metadata": {},
     "output_type": "execute_result"
    },
    {
     "data": {
      "text/plain": [
       "<matplotlib.axes._subplots.AxesSubplot at 0x7fa8fa3d0208>"
      ]
     },
     "execution_count": 14,
     "metadata": {},
     "output_type": "execute_result"
    },
    {
     "data": {
      "text/plain": [
       "Text(0.5, 1.0, 'ACTIVE WALKING')"
      ]
     },
     "execution_count": 14,
     "metadata": {},
     "output_type": "execute_result"
    },
    {
     "data": {
      "text/plain": [
       "Text(0, 0.5, 'COUNTS')"
      ]
     },
     "execution_count": 14,
     "metadata": {},
     "output_type": "execute_result"
    },
    {
     "data": {
      "image/png": "[encoded data removed]",
      "text/plain": [
       "<Figure size 432x288 with 1 Axes>"
      ]
     },
     "metadata": {},
     "output_type": "display_data"
    },
    {
     "data": {
      "image/png": "[encoded data removed]",
      "text/plain": [
       "<Figure size 432x288 with 1 Axes>"
      ]
     },
     "metadata": {},
     "output_type": "display_data"
    },
    {
     "data": {
      "image/png": "[encoded data removed]",
      "text/plain": [
       "<Figure size 432x288 with 1 Axes>"
      ]
     },
     "metadata": {},
     "output_type": "display_data"
    },
    {
     "data": {
      "image/png": "[encoded data removed]",
      "text/plain": [
       "<Figure size 432x288 with 1 Axes>"
      ]
     },
     "metadata": {},
     "output_type": "display_data"
    },
    {
     "data": {
      "image/png": "[encoded data removed]",
      "text/plain": [
       "<Figure size 432x288 with 1 Axes>"
      ]
     },
     "metadata": {},
     "output_type": "display_data"
    },
    {
     "data": {
      "image/png": "[encoded data removed]",
      "text/plain": [
       "<Figure size 432x288 with 1 Axes>"
      ]
     },
     "metadata": {},
     "output_type": "display_data"
    },
    {
     "data": {
      "image/png": "[encoded data removed]",
      "text/plain": [
       "<Figure size 432x288 with 1 Axes>"
      ]
     },
     "metadata": {},
     "output_type": "display_data"
    }
   ],
   "source": [
    "#axes[0, 0].hist(feed_x)\n",
    "# Z - dimension\n",
    "\n",
    "feed_z.plot.hist(grid=True, bins=20, range=[-3, 3], rwidth=0.9,\n",
    "                   color='#607c8e')\n",
    "plt.title('FEEDING')\n",
    "plt.ylabel('COUNTS')\n",
    "#plt.grid(axis='y', alpha=0.75)\n",
    "\n",
    "\n",
    "plt.figure(2)\n",
    "ly_z.plot.hist(grid=True, bins=20, range=[-3, 3], rwidth=0.9,\n",
    "                   color='#607c8e')\n",
    "plt.title('LYING')\n",
    "plt.ylabel('COUNTS')\n",
    "#plt.grid(axis='y', alpha=0.75)\n",
    "\n",
    "plt.figure(3)\n",
    "stand_z.plot.hist(grid=True, bins=20, range=[-3, 3], rwidth=0.9,\n",
    "                   color='#607c8e')\n",
    "plt.title('STANDING')\n",
    "plt.ylabel('COUNTS')\n",
    "#plt.grid(axis='y', alpha=0.75)\n",
    "\n",
    "plt.figure(4)\n",
    "lydown_z.plot.hist(grid=True, bins=20, range=[-3, 3], rwidth=0.9,\n",
    "                   color='#607c8e')\n",
    "plt.title('LYING DOWN')\n",
    "plt.ylabel('COUNTS')\n",
    "#plt.grid(axis='y', alpha=0.75)\n",
    "\n",
    "plt.figure(5)\n",
    "standup_z.plot.hist(grid=True, bins=20, range=[-3, 3], rwidth=0.9,\n",
    "                   color='#607c8e')\n",
    "plt.title('STANDING UP')\n",
    "plt.ylabel('COUNTS')\n",
    "plt.grid(axis='y', alpha=2)\n",
    "\n",
    "\n",
    "plt.figure(6)\n",
    "normal_z.plot.hist(grid=True, bins=20, range=[-3, 3], rwidth=0.9,\n",
    "                   color='#607c8e')\n",
    "plt.title('NORMAL WALKING')\n",
    "plt.ylabel('COUNTS')\n",
    "#plt.grid(axis='y', alpha=0.75)\n",
    "\n",
    "plt.figure(7)\n",
    "active_z.plot.hist(grid=True, bins=20, range=[-3, 3], rwidth=0.9,\n",
    "                   color='#607c8e')\n",
    "plt.title('ACTIVE WALKING')\n",
    "plt.ylabel('COUNTS')\n",
    "#plt.grid(axis='y', alpha=0.75)"
   ]
  },
  {
   "cell_type": "code",
   "execution_count": 121,
   "metadata": {},
   "outputs": [
    {
     "data": {
      "text/plain": [
       "22033"
      ]
     },
     "execution_count": 121,
     "metadata": {},
     "output_type": "execute_result"
    }
   ],
   "source": [
    "len(features_vector)\n",
    "\n"
   ]
  },
  {
   "cell_type": "code",
   "execution_count": null,
   "metadata": {},
   "outputs": [],
   "source": [
    "y_data"
   ]
  },
  {
   "cell_type": "code",
   "execution_count": null,
   "metadata": {},
   "outputs": [],
   "source": []
  }
 ],
 "metadata": {
  "kernelspec": {
   "display_name": "Python 3",
   "language": "python",
   "name": "python3"
  },
  "language_info": {
   "codemirror_mode": {
    "name": "ipython",
    "version": 3
   },
   "file_extension": ".py",
   "mimetype": "text/x-python",
   "name": "python",
   "nbconvert_exporter": "python",
   "pygments_lexer": "ipython3",
   "version": "3.6.4"
  }
 },
 "nbformat": 4,
 "nbformat_minor": 2
}
