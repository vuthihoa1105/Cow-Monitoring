{
 "cells": [
  {
   "cell_type": "code",
   "execution_count": 1,
   "metadata": {},
   "outputs": [],
   "source": [
    "# All includes\n",
    "\n",
    "import numpy as np\n",
    "import matplotlib\n",
    "import matplotlib.pyplot as plt\n",
    "from sklearn import metrics\n",
    "import pandas as pd\n",
    "\n",
    "import os\n",
    "from IPython.core.interactiveshell import InteractiveShell\n",
    "InteractiveShell.ast_node_interactivity = \"all\"\n",
    "\n",
    "# for svm\n",
    "from sklearn.model_selection import train_test_split\n",
    "from sklearn.model_selection import GridSearchCV\n",
    "from sklearn.metrics import classification_report\n",
    "from sklearn.metrics import confusion_matrix\n",
    "from sklearn.svm import SVC\n",
    "\n",
    "# Current best:\n",
    "# Decision Tree: 99/91%\n",
    "\n",
    "\n",
    "## Current Best for SVM: no frequency features\n",
    "# window_size: 12\n",
    "# Stridee: 5\n",
    "# Overall Accuracy: 90/90\n",
    "\n",
    "\n",
    "# if frequency involved --> achieve 91/89 accuracy"
   ]
  },
  {
   "cell_type": "code",
   "execution_count": 2,
   "metadata": {},
   "outputs": [],
   "source": [
    "# Import data\n",
    "\n",
    "df = pd.read_excel('data.xlsx')\n",
    "\n",
    "df = df.drop(columns=['Unnamed: 21', 'Unnamed: 22', 'Unnamed: 23'])\n",
    "\n",
    "#df.head()"
   ]
  },
  {
   "cell_type": "code",
   "execution_count": 3,
   "metadata": {},
   "outputs": [],
   "source": [
    "# Prepare data\n",
    "\n",
    "#df.columns\n",
    "\n",
    "Feeding = df[['Feeding', 'Unnamed: 1', 'Unnamed: 2']]\n",
    "Feeding = Feeding.dropna()\n",
    "Feeding.index = pd.RangeIndex(len(Feeding.index))\n",
    "Feeding = Feeding.drop(0)\n",
    "\n",
    "Lying = df[['Lying', 'Unnamed: 4', 'Unnamed: 5']]\n",
    "Lying = Lying.dropna()\n",
    "Lying.index = pd.RangeIndex(len(Lying.index))\n",
    "Lying = Lying.drop(0)\n",
    "\n",
    "Standing = df[['Standing', 'Unnamed: 7', 'Unnamed: 8']]\n",
    "Standing = Standing.dropna()\n",
    "Standing.index = pd.RangeIndex(len(Standing.index))\n",
    "Standing = Standing.drop(0)\n",
    "\n",
    "Lying_down = df[['Lying down', 'Unnamed: 10', 'Unnamed: 11']]\n",
    "Lying_down = Lying_down.dropna()\n",
    "Lying_down.index = pd.RangeIndex(len(Lying_down.index))\n",
    "Lying_down = Lying_down.drop(0)\n",
    "\n",
    "Standing_up = df[['Feeding', 'Unnamed: 13', 'Unnamed: 14']]\n",
    "Standing_up = Standing_up.dropna()\n",
    "Standing_up.index = pd.RangeIndex(len(Standing_up.index))\n",
    "Standing_up = Standing_up.drop(0)\n",
    "\n",
    "Normal_walking = df[['Normal walking', 'Unnamed: 16', 'Unnamed: 17']]\n",
    "Normal_walking = Normal_walking.dropna()\n",
    "Normal_walking.index = pd.RangeIndex(len(Normal_walking.index))\n",
    "Normal_walking = Normal_walking.drop(0)\n",
    "\n",
    "Active_walking = df[['Active walking', 'Unnamed: 19', 'Unnamed: 20']]\n",
    "Active_walking = Active_walking.dropna()\n",
    "Active_walking.index = pd.RangeIndex(len(Active_walking.index))\n",
    "Active_walking = Active_walking.drop(0)\n",
    "\n",
    "#Active_walking.columns"
   ]
  },
  {
   "cell_type": "code",
   "execution_count": 4,
   "metadata": {},
   "outputs": [],
   "source": [
    "#Standing.head(10)"
   ]
  },
  {
   "cell_type": "code",
   "execution_count": 5,
   "metadata": {},
   "outputs": [],
   "source": [
    "## compute feature database\n",
    "prepared_features = []\n",
    "window_size = 12\n",
    "stride = 5\n",
    "# current best:\n",
    "# window_size = 15   or 12\n",
    "# stride = 6         or 5\n",
    "\n",
    "# windowing and overlaping\n",
    "#test_data = Standing.loc[15]\n",
    "\n",
    "Feeding_data_list = [Feeding[i:i+window_size] for i in range(0, len(Feeding), stride) if i+window_size<=len(Feeding)]\n",
    "\n",
    "Lying_data_list = [Lying[i:i+window_size] for i in range(0, len(Lying), stride) if i+window_size<=len(Lying)]\n",
    "\n",
    "Lying_down_data_list = [Lying_down[i:i+window_size] for i in range(0, len(Lying_down), stride) if i+window_size<=len(Lying_down)]\n",
    "\n",
    "Standing_data_list = [Standing[i:i+window_size] for i in range(0, len(Standing), stride) if i+window_size<=len(Standing)]\n",
    "\n",
    "Standing_up_data_list = [Standing_up[i:i+window_size] for i in range(0, len(Standing_up), stride) if i+window_size<=len(Standing_up)]\n",
    "\n",
    "Normal_walking_data_list = [Normal_walking[i:i+window_size] for i in range(0, len(Normal_walking), stride) if i+window_size<=len(Normal_walking)]\n",
    "\n",
    "Active_walking_data_list = [Active_walking[i:i+window_size] for i in range(0, len(Active_walking), stride) if i+window_size<=len(Active_walking)]\n"
   ]
  },
  {
   "cell_type": "code",
   "execution_count": 6,
   "metadata": {},
   "outputs": [],
   "source": [
    "# include lib for frequency domain features computations\n",
    "from scipy import signal"
   ]
  },
  {
   "cell_type": "code",
   "execution_count": 7,
   "metadata": {},
   "outputs": [],
   "source": [
    "# this function extract vector of features from raw data\n",
    "# Expected features:\n",
    "# 1. mean\n",
    "# 2. median\n",
    "# 3. variance\n",
    "# 4. range\n",
    "# 5. standard Deviation\n",
    "# 6. average\n",
    "# ---------------------------\n",
    "# 7. energy\n",
    "# 8. correlation\n",
    "# 9. velocity\n",
    "# 10. acceleration\n",
    "# 11. fundamental frequencies (DFT)\n",
    "# 12. signal peaks (using PSD - Power Spectral Density) \n",
    "# todo:...\n",
    "# spectral peak features (12 per channel): value and freq of first 6 peaks\n",
    "# for each chanel: x,  y, z:\n",
    "# ---> expecting to extract 12 features:\n",
    "# features  1-6: position of the highest 6 peaks\n",
    "# features 7-12: power levels of the highest 6 peaks\n",
    "\n",
    "# return feat: a numpy array of length 18 <todo>\n",
    "\n",
    "def featuresFromBuffer(at, fs):\n",
    "    feat = np.zeros(63)\n",
    "    #feat = []\n",
    "    x = np.array(at.iloc[:,0], dtype=np.float64)   # x acceleration component\n",
    "    y = np.array(at.iloc[:,1], dtype=np.float64)   # y\n",
    "    z = np.array(at.iloc[:,2], dtype=np.float64)   # z\n",
    "    #print(len(x))\n",
    "    # Average value in signal buffer for all three acceleration components (1 each)    \n",
    "    means = [np.mean(i) for i in [x, y, z]]\n",
    "    feat[0:3] = means\n",
    "    \n",
    "    # RMS value in signal buffer for all three acceleration components (1 each)\n",
    "    rms = [np.sqrt(np.mean(i**2)) for i in [x, y, z]]\n",
    "    feat[3:6] = rms\n",
    "    \n",
    "    # Standard deviation\n",
    "    std = [np.std(i) for i in [x, y, z]]\n",
    "    feat[6:9] = std\n",
    "    \n",
    "    # Variance\n",
    "    var = [np.var(i) for i in [x, y, z]]\n",
    "    feat[9:12] = var\n",
    "    \n",
    "    # Median\n",
    "    med = [np.median(i) for i in [x, y, z]]\n",
    "    feat[12:15] = med\n",
    "    \n",
    "    # Range\n",
    "    Range1 = [ np.amin(i) for i in [x, y, z]]    \n",
    "    feat[15:18] = Range1\n",
    "    Range2 = [ np.amax(i) for i in [x, y, z]]    \n",
    "    feat[18:21] = Range2\n",
    "    \n",
    "    # Energy\n",
    "    #energy = [ sum(i**2) for i in [x, y, z]]\n",
    "    #feat[39:42] = energy\n",
    "    \n",
    "    # Power Spectral Density\n",
    "    psd = []\n",
    "    for i in [x, y, z]:\n",
    "        f, p = signal.welch(i)\n",
    "        pp = p.tolist()\n",
    "        ff = f.tolist()\n",
    "        for ppp in pp:\n",
    "            psd.append(ppp)\n",
    "        for fff in ff:\n",
    "            psd.append(fff)\n",
    "        #psd.append(pp)\n",
    "        #print(psd)\n",
    "    feat[21:63] = psd\n",
    "    \n",
    "# TODO:\n",
    "    # Spectral peak features\n",
    "    # Spectral power features\n",
    "    # Autocorrelation features\n",
    "    \n",
    "    return feat\n",
    "    "
   ]
  },
  {
   "cell_type": "code",
   "execution_count": 8,
   "metadata": {},
   "outputs": [],
   "source": [
    "## Definitons:\n",
    "# Feeding: 1\n",
    "# Lying: 2\n",
    "# Standing: 3\n",
    "# Lying down: 4\n",
    "# Standing up: 5\n",
    "# Normal walking: 6\n",
    "# Active walking: 7\n",
    "\n",
    "#data = [Feeding, Lying, Standing, Lying_down, Standing, Lying_down, Standing_up, Normal_walking, Active_walking]\n",
    "# features_vector is a list of numpy arrays\n",
    "features_vector = []\n",
    "\n",
    "lables = []\n",
    "\n",
    "#len(Feeding_data_list)\n",
    "#Feeding_data_list[1226]\n",
    "#Feeding"
   ]
  },
  {
   "cell_type": "code",
   "execution_count": 9,
   "metadata": {
    "scrolled": true
   },
   "outputs": [
    {
     "name": "stdout",
     "output_type": "stream",
     "text": [
      "begin->end\n"
     ]
    },
    {
     "name": "stderr",
     "output_type": "stream",
     "text": [
      "/home/kikyou/.local/lib/python3.6/site-packages/scipy/signal/spectral.py:1970: UserWarning: nperseg = 256 is greater than input length  = 12, using nperseg = 12\n",
      "  .format(nperseg, input_length))\n"
     ]
    }
   ],
   "source": [
    "print(\"begin->end\")\n",
    "# main loop of data preparation\n",
    "i = 0\n",
    "\n",
    "# Add Feeding feature and lable = 1\n",
    "for action in Feeding_data_list:\n",
    "    feat = featuresFromBuffer(action, 5)\n",
    "    features_vector.append(feat)\n",
    "    lables.append(1)\n",
    "\n",
    "# Add Lying feature and lable = 2\n",
    "for action in Lying_data_list:\n",
    "    feat = featuresFromBuffer(action, 5)\n",
    "    features_vector.append(feat)\n",
    "    lables.append(2)\n",
    "    \n",
    "# Add Standing feature and lable = 3\n",
    "for action in Standing_data_list:\n",
    "    feat = featuresFromBuffer(action, 5)\n",
    "    features_vector.append(feat)\n",
    "    lables.append(3)\n",
    "    \n",
    "# Add Lying_down feature and lable = 4\n",
    "for action in Lying_down_data_list:\n",
    "    feat = featuresFromBuffer(action, 5)\n",
    "    features_vector.append(feat)\n",
    "    lables.append(4)\n",
    "    \n",
    "# Add Standing_up feature and lable = 5\n",
    "for action in Standing_up_data_list:\n",
    "    feat = featuresFromBuffer(action, 5)\n",
    "    features_vector.append(feat)\n",
    "    lables.append(5)\n",
    "    \n",
    "# Add Normal_walking feature and lable = 6\n",
    "for action in Normal_walking_data_list:\n",
    "    feat = featuresFromBuffer(action, 5)\n",
    "    features_vector.append(feat)\n",
    "    lables.append(6)\n",
    "    \n",
    "# Add Active_walking feature and lable = 7\n",
    "for action in Active_walking_data_list:\n",
    "    feat = featuresFromBuffer(action, 5)\n",
    "    features_vector.append(feat)\n",
    "    lables.append(7)\n",
    "\n",
    "    \n",
    "    "
   ]
  },
  {
   "cell_type": "code",
   "execution_count": 10,
   "metadata": {},
   "outputs": [
    {
     "data": {
      "text/plain": [
       "4411"
      ]
     },
     "execution_count": 10,
     "metadata": {},
     "output_type": "execute_result"
    },
    {
     "data": {
      "text/plain": [
       "4411"
      ]
     },
     "execution_count": 10,
     "metadata": {},
     "output_type": "execute_result"
    }
   ],
   "source": [
    "len(features_vector)\n",
    "\n",
    "len(lables)"
   ]
  },
  {
   "cell_type": "code",
   "execution_count": 11,
   "metadata": {
    "scrolled": true
   },
   "outputs": [],
   "source": [
    "# prepare data train;\n",
    "X_train, X_test,y_train, y_test = train_test_split(features_vector, lables,test_size=0.4, random_state=0)\n"
   ]
  },
  {
   "cell_type": "code",
   "execution_count": 12,
   "metadata": {},
   "outputs": [
    {
     "data": {
      "text/plain": [
       "KNeighborsClassifier(algorithm='auto', leaf_size=30, metric='minkowski',\n",
       "           metric_params=None, n_jobs=None, n_neighbors=7, p=2,\n",
       "           weights='uniform')"
      ]
     },
     "execution_count": 12,
     "metadata": {},
     "output_type": "execute_result"
    },
    {
     "name": "stdout",
     "output_type": "stream",
     "text": [
      "Accuracy of K-NN classifier on training set: 0.89\n",
      "Accuracy of K-NN classifier on test set: 0.85\n"
     ]
    }
   ],
   "source": [
    "from sklearn.neighbors import KNeighborsClassifier\n",
    "\n",
    "knn = KNeighborsClassifier(n_neighbors = 7)\n",
    "knn.fit(X_train, y_train)\n",
    "print('Accuracy of K-NN classifier on training set: {:.2f}'\n",
    "     .format(knn.score(X_train, y_train)))\n",
    "print('Accuracy of K-NN classifier on test set: {:.2f}'\n",
    "     .format(knn.score(X_test, y_test)))"
   ]
  },
  {
   "cell_type": "code",
   "execution_count": 13,
   "metadata": {},
   "outputs": [
    {
     "name": "stdout",
     "output_type": "stream",
     "text": [
      "[2.         2.         2.33333333 ... 2.06666667 1.4        6.        ]\n",
      "R-squared test score: 0.879\n"
     ]
    }
   ],
   "source": [
    "from sklearn.neighbors import KNeighborsRegressor\n",
    "\n",
    "knnreg = KNeighborsRegressor(n_neighbors = 15).fit(X_train, y_train)\n",
    "print(knnreg.predict(X_test))\n",
    "print('R-squared test score: {:.3f}'\n",
    "     .format(knnreg.score(X_test, y_test)))"
   ]
  },
  {
   "cell_type": "code",
   "execution_count": 14,
   "metadata": {},
   "outputs": [
    {
     "name": "stdout",
     "output_type": "stream",
     "text": [
      "linear model coeff (w): [-7.20111271e-01  4.92235495e-02  2.13428442e-01 -3.20493126e+00\n",
      " -1.79729819e+00 -5.36072675e+00  6.83806702e-01  2.75421703e+00\n",
      "  6.48060127e+00  1.30161017e+00 -1.82890318e-02 -3.60084220e-03\n",
      "  3.46399903e-01 -2.55541799e-01 -9.47830324e-03  3.04186657e-01\n",
      " -7.59900678e-04  4.92042960e-02  3.75904436e-02 -8.64475580e-03\n",
      " -1.60638296e-01  8.94200389e-03 -1.81253841e-03  1.26881836e-02\n",
      " -2.24748575e-03  3.85364849e-03 -1.64870117e-02  1.53912305e-02\n",
      " -2.18372029e+05 -3.96548935e+08 -7.91934812e+08 -1.34104458e+06\n",
      " -1.58296112e+09  1.19390169e+09  6.91668273e+05  4.88996506e-03\n",
      "  1.70544982e-02  3.68114561e-03  5.32851554e-03 -4.15444374e-03\n",
      " -8.15512240e-03  8.91053677e-03 -1.19209290e-07 -3.95969170e+08\n",
      " -7.91938340e+08  0.00000000e+00 -1.58387668e+09  1.19364619e+09\n",
      "  0.00000000e+00 -2.13664770e-03  1.34177208e-02  8.75204802e-03\n",
      "  9.83023643e-03  2.18701363e-03 -1.31239891e-02  2.01921463e-02\n",
      "  0.00000000e+00 -3.95969170e+08 -7.91938340e+08  0.00000000e+00\n",
      " -1.58387668e+09  1.19364619e+09  0.00000000e+00]\n",
      "linear model intercept (b): 586405914.102\n",
      "R-squared score (training): 0.826\n",
      "R-squared score (test): 0.830\n"
     ]
    }
   ],
   "source": [
    "from sklearn.linear_model import LinearRegression\n",
    "\n",
    "linreg = LinearRegression().fit(X_train, y_train)\n",
    "\n",
    "print('linear model coeff (w): {}'\n",
    "     .format(linreg.coef_))\n",
    "print('linear model intercept (b): {:.3f}'\n",
    "     .format(linreg.intercept_))\n",
    "print('R-squared score (training): {:.3f}'\n",
    "     .format(linreg.score(X_train, y_train)))\n",
    "print('R-squared score (test): {:.3f}'\n",
    "     .format(linreg.score(X_test, y_test)))"
   ]
  },
  {
   "cell_type": "code",
   "execution_count": 15,
   "metadata": {},
   "outputs": [
    {
     "name": "stdout",
     "output_type": "stream",
     "text": [
      "lasso regression linear model intercept: 3.78307894377305\n",
      "lasso regression linear model coeff:\n",
      "[ 0.         -0.          0.          0.          0.          0.\n",
      "  0.          0.          0.          0.          0.          0.\n",
      "  0.         -0.          0.         -0.         -0.         -0.\n",
      "  0.          0.          0.          0.          0.          0.\n",
      "  0.          0.          0.          0.          0.          0.\n",
      "  0.          0.          0.          0.          0.          0.\n",
      "  0.          0.05020665  0.          0.02275625  0.03314153  0.\n",
      "  0.          0.          0.          0.          0.         -0.\n",
      "  0.          0.          0.          0.01378698  0.          0.\n",
      "  0.          0.          0.          0.          0.          0.\n",
      "  0.         -0.          0.        ]\n",
      "Non-zero features: 4\n",
      "R-squared score (training): 0.120\n",
      "R-squared score (test): 0.115\n",
      "\n",
      "Features with non-zero weight (sorted by absolute magnitude):\n"
     ]
    }
   ],
   "source": [
    "from sklearn.linear_model import Lasso\n",
    "from sklearn.preprocessing import MinMaxScaler\n",
    "\n",
    "linlasso = Lasso(alpha=2.0, max_iter = 10000).fit(X_train, y_train)\n",
    "\n",
    "print('lasso regression linear model intercept: {}'\n",
    "     .format(linlasso.intercept_))\n",
    "print('lasso regression linear model coeff:\\n{}'\n",
    "     .format(linlasso.coef_))\n",
    "print('Non-zero features: {}'\n",
    "     .format(np.sum(linlasso.coef_ != 0)))\n",
    "print('R-squared score (training): {:.3f}'\n",
    "     .format(linlasso.score(X_train, y_train)))\n",
    "print('R-squared score (test): {:.3f}\\n'\n",
    "     .format(linlasso.score(X_test, y_test)))\n",
    "print('Features with non-zero weight (sorted by absolute magnitude):')"
   ]
  },
  {
   "cell_type": "code",
   "execution_count": 16,
   "metadata": {},
   "outputs": [],
   "source": [
    "# make color\n",
    "import seaborn as sns\n",
    "from matplotlib import cm\n",
    "from sklearn.metrics import accuracy_score, precision_score, recall_score, f1_score"
   ]
  },
  {
   "cell_type": "code",
   "execution_count": 17,
   "metadata": {},
   "outputs": [
    {
     "data": {
      "text/plain": [
       "<Figure size 1080x720 with 0 Axes>"
      ]
     },
     "execution_count": 17,
     "metadata": {},
     "output_type": "execute_result"
    },
    {
     "data": {
      "text/plain": [
       "<matplotlib.axes._subplots.AxesSubplot at 0x7fbb49b45828>"
      ]
     },
     "execution_count": 17,
     "metadata": {},
     "output_type": "execute_result"
    },
    {
     "data": {
      "text/plain": [
       "Text(0.5, 1.0, 'SVM rbf Kernel \\nAccuracy:0.853')"
      ]
     },
     "execution_count": 17,
     "metadata": {},
     "output_type": "execute_result"
    },
    {
     "data": {
      "text/plain": [
       "Text(114.0, 0.5, 'True label')"
      ]
     },
     "execution_count": 17,
     "metadata": {},
     "output_type": "execute_result"
    },
    {
     "data": {
      "text/plain": [
       "Text(0.5, 69.0, 'Predicted label')"
      ]
     },
     "execution_count": 17,
     "metadata": {},
     "output_type": "execute_result"
    },
    {
     "data": {
      "image/png": "[encoded data removed]",
      "text/plain": [
       "<Figure size 1080x720 with 2 Axes>"
      ]
     },
     "metadata": {},
     "output_type": "display_data"
    }
   ],
   "source": [
    "# confusion matrices:\n",
    "predicted = knn.predict(X_test)\n",
    "\n",
    "\n",
    "confusion_test = confusion_matrix(y_test, predicted)\n",
    "\n",
    "\n",
    "df_cm = pd.DataFrame(confusion_test,\n",
    "                    index = [i for i in range(1, 8)], columns = [i for i in range(1, 8)])\n",
    "\n",
    "\n",
    "plt.figure(figsize=(15,10))\n",
    "\n",
    "sns.heatmap(df_cm, annot=True)\n",
    "\n",
    "plt.title('SVM rbf Kernel \\nAccuracy:{0:.3f}'.format(accuracy_score(y_test, \n",
    "                                                                       predicted)))\n",
    "plt.ylabel('True label')\n",
    "plt.xlabel('Predicted label')"
   ]
  },
  {
   "cell_type": "code",
   "execution_count": 18,
   "metadata": {},
   "outputs": [
    {
     "name": "stdout",
     "output_type": "stream",
     "text": [
      "              precision    recall  f1-score   support\n",
      "\n",
      "           1       0.78      0.73      0.76       319\n",
      "           2       1.00      1.00      1.00       353\n",
      "           3       0.63      0.70      0.66       210\n",
      "           4       0.62      0.78      0.69       147\n",
      "           5       0.92      0.97      0.94       149\n",
      "           6       0.94      1.00      0.97       337\n",
      "           7       0.97      0.71      0.82       250\n",
      "\n",
      "   micro avg       0.85      0.85      0.85      1765\n",
      "   macro avg       0.84      0.84      0.83      1765\n",
      "weighted avg       0.86      0.85      0.85      1765\n",
      "\n"
     ]
    }
   ],
   "source": [
    "print(classification_report(y_test, predicted))\n",
    "# Accuracy is calculated follow vertically\n",
    "# for example:\n",
    "# accuracy for the 3rd status: 58/(58+23)"
   ]
  },
  {
   "cell_type": "code",
   "execution_count": 19,
   "metadata": {},
   "outputs": [],
   "source": [
    "## Definitons:\n",
    "# Feeding: 1\n",
    "# Lying: 2\n",
    "# Standing: 3\n",
    "# Lying down: 4\n",
    "# Standing up: 5\n",
    "# Normal walking: 6\n",
    "# Active walking: 7"
   ]
  },
  {
   "cell_type": "code",
   "execution_count": null,
   "metadata": {},
   "outputs": [],
   "source": []
  },
  {
   "cell_type": "code",
   "execution_count": null,
   "metadata": {},
   "outputs": [],
   "source": []
  },
  {
   "cell_type": "code",
   "execution_count": null,
   "metadata": {},
   "outputs": [],
   "source": []
  },
  {
   "cell_type": "code",
   "execution_count": null,
   "metadata": {},
   "outputs": [],
   "source": []
  }
 ],
 "metadata": {
  "kernelspec": {
   "display_name": "Python 3",
   "language": "python",
   "name": "python3"
  },
  "language_info": {
   "codemirror_mode": {
    "name": "ipython",
    "version": 3
   },
   "file_extension": ".py",
   "mimetype": "text/x-python",
   "name": "python",
   "nbconvert_exporter": "python",
   "pygments_lexer": "ipython3",
   "version": "3.6.5"
  }
 },
 "nbformat": 4,
 "nbformat_minor": 2
}
